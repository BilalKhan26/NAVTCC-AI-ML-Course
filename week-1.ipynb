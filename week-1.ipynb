{
 "cells": [
  {
   "cell_type": "markdown",
   "metadata": {},
   "source": [
    "WEEK-1"
   ]
  },
  {
   "cell_type": "markdown",
   "metadata": {},
   "source": [
    "DAY-3: HOUR#1"
   ]
  },
  {
   "cell_type": "markdown",
   "metadata": {},
   "source": [
    "Values, \n",
    "expressions, \n",
    "statements, \n",
    "Numbers, \n",
    "Booleans, \n",
    "Strings, \n",
    "Operators, \n",
    "variables, and  \n",
    "keywords "
   ]
  },
  {
   "cell_type": "markdown",
   "metadata": {},
   "source": [
    "1. Values in Python"
   ]
  },
  {
   "cell_type": "markdown",
   "metadata": {},
   "source": [
    "A value is the basic unit of data in Python, which can be stored in a variable or used in expressions."
   ]
  },
  {
   "cell_type": "markdown",
   "metadata": {},
   "source": [
    "Types of Values"
   ]
  },
  {
   "cell_type": "markdown",
   "metadata": {},
   "source": [
    "1. Numbers → Integers, floating-point numbers, and complex numbers."
   ]
  },
  {
   "cell_type": "code",
   "execution_count": 101,
   "metadata": {},
   "outputs": [],
   "source": [
    "x = -10    # Integer\n",
    "y = 3.14  # Float\n",
    "z = 2 + 3j  # Complex number"
   ]
  },
  {
   "cell_type": "markdown",
   "metadata": {},
   "source": [
    "2. Booleans → Represent logical values True or False."
   ]
  },
  {
   "cell_type": "code",
   "execution_count": 20,
   "metadata": {},
   "outputs": [],
   "source": [
    "is_valid = True\n",
    "is_logged_in = False"
   ]
  },
  {
   "cell_type": "markdown",
   "metadata": {},
   "source": [
    "3. Strings → A sequence of characters enclosed in quotes."
   ]
  },
  {
   "cell_type": "code",
   "execution_count": 21,
   "metadata": {},
   "outputs": [],
   "source": [
    "name = \"Alice\"\n",
    "greeting = 'Hello, World!'"
   ]
  },
  {
   "cell_type": "markdown",
   "metadata": {},
   "source": [
    "2. Expressions in Python"
   ]
  },
  {
   "cell_type": "markdown",
   "metadata": {},
   "source": [
    "An expression is a combination of values, variables, and operators that evaluates to a single value."
   ]
  },
  {
   "cell_type": "markdown",
   "metadata": {},
   "source": [
    "Examples of Expressions"
   ]
  },
  {
   "cell_type": "markdown",
   "metadata": {},
   "source": [
    "1. Arithmetic Expression"
   ]
  },
  {
   "cell_type": "code",
   "execution_count": 22,
   "metadata": {},
   "outputs": [],
   "source": [
    "result = (10 + 5) * 2  # Evaluates to 30"
   ]
  },
  {
   "cell_type": "markdown",
   "metadata": {},
   "source": [
    "2. Boolean Expression"
   ]
  },
  {
   "cell_type": "code",
   "execution_count": 23,
   "metadata": {},
   "outputs": [],
   "source": [
    "is_greater = (10 > 5)  # Evaluates to True"
   ]
  },
  {
   "cell_type": "markdown",
   "metadata": {},
   "source": [
    "3. String Concatenation"
   ]
  },
  {
   "cell_type": "code",
   "execution_count": 24,
   "metadata": {},
   "outputs": [],
   "source": [
    "full_name = \"Alice\" + \" \" + \"Smith\"  # Evaluates to 'Alice Smith'"
   ]
  },
  {
   "cell_type": "markdown",
   "metadata": {},
   "source": [
    "3. Statements in Python"
   ]
  },
  {
   "cell_type": "markdown",
   "metadata": {},
   "source": [
    "A statement is a complete line of code that performs an action."
   ]
  },
  {
   "cell_type": "markdown",
   "metadata": {},
   "source": [
    "Types of Statements"
   ]
  },
  {
   "cell_type": "markdown",
   "metadata": {},
   "source": [
    "1. Assignment Statement"
   ]
  },
  {
   "cell_type": "code",
   "execution_count": 25,
   "metadata": {},
   "outputs": [],
   "source": [
    "x = 10  # Assigns 10 to variable x"
   ]
  },
  {
   "cell_type": "code",
   "execution_count": 102,
   "metadata": {},
   "outputs": [
    {
     "name": "stdout",
     "output_type": "stream",
     "text": [
      "4\n",
      "hello\n"
     ]
    }
   ],
   "source": [
    "print(4)\n",
    "print('hello')"
   ]
  },
  {
   "cell_type": "markdown",
   "metadata": {},
   "source": [
    "2. Conditional Statement"
   ]
  },
  {
   "cell_type": "code",
   "execution_count": 105,
   "metadata": {},
   "outputs": [],
   "source": [
    "x=1\n",
    "if x > 5:\n",
    "    print(\"x is greater than 5\")"
   ]
  },
  {
   "cell_type": "markdown",
   "metadata": {},
   "source": [
    "3. Loop Statement"
   ]
  },
  {
   "cell_type": "code",
   "execution_count": 106,
   "metadata": {},
   "outputs": [
    {
     "name": "stdout",
     "output_type": "stream",
     "text": [
      "0\n",
      "1\n",
      "2\n"
     ]
    }
   ],
   "source": [
    "for i in range(3):\n",
    "    print(i)  "
   ]
  },
  {
   "cell_type": "markdown",
   "metadata": {},
   "source": [
    "4. Function Definition Statement"
   ]
  },
  {
   "cell_type": "code",
   "execution_count": null,
   "metadata": {},
   "outputs": [],
   "source": [
    "def add(a, b):\n",
    "    return a + b\n"
   ]
  },
  {
   "cell_type": "markdown",
   "metadata": {},
   "source": [
    "4. Operators, Variables, and Keywords\n"
   ]
  },
  {
   "cell_type": "markdown",
   "metadata": {},
   "source": [
    "Operators"
   ]
  },
  {
   "cell_type": "markdown",
   "metadata": {},
   "source": [
    "Operators are symbols that perform operations on values."
   ]
  },
  {
   "cell_type": "markdown",
   "metadata": {},
   "source": [
    "1. Arithmetic Operators (+, -, *, /, //, %, **)"
   ]
  },
  {
   "cell_type": "code",
   "execution_count": 107,
   "metadata": {},
   "outputs": [
    {
     "data": {
      "text/plain": [
       "8"
      ]
     },
     "execution_count": 107,
     "metadata": {},
     "output_type": "execute_result"
    }
   ],
   "source": [
    "sum = 10 + 5  # Addition\n",
    "power = 2 ** 3  # Exponentiation\n",
    "power"
   ]
  },
  {
   "cell_type": "markdown",
   "metadata": {},
   "source": [
    "2. Comparison Operators (==, !=, >, <, >=, <=)"
   ]
  },
  {
   "cell_type": "code",
   "execution_count": 30,
   "metadata": {},
   "outputs": [],
   "source": [
    "is_equal = (5 == 5)  # True"
   ]
  },
  {
   "cell_type": "markdown",
   "metadata": {},
   "source": [
    "3. Logical Operators (and, or, not)"
   ]
  },
  {
   "cell_type": "code",
   "execution_count": 141,
   "metadata": {},
   "outputs": [
    {
     "data": {
      "text/plain": [
       "True"
      ]
     },
     "execution_count": 141,
     "metadata": {},
     "output_type": "execute_result"
    }
   ],
   "source": [
    "result = (5 > 3) or (8 > 10)  # True\n",
    "result"
   ]
  },
  {
   "cell_type": "markdown",
   "metadata": {},
   "source": [
    "Variables"
   ]
  },
  {
   "cell_type": "markdown",
   "metadata": {},
   "source": [
    "A variable is a name that stores a value."
   ]
  },
  {
   "cell_type": "code",
   "execution_count": 32,
   "metadata": {},
   "outputs": [],
   "source": [
    "age = 25\n",
    "name = \"John\""
   ]
  },
  {
   "cell_type": "markdown",
   "metadata": {},
   "source": [
    "Keywords"
   ]
  },
  {
   "cell_type": "markdown",
   "metadata": {},
   "source": [
    "Keywords are reserved words in Python that cannot be used as variable names."
   ]
  },
  {
   "cell_type": "markdown",
   "metadata": {},
   "source": [
    "Keyword Examples:\n",
    "if, else, elif\n",
    "for, while, break, continue\n",
    "def, return, lambda\n",
    "class, try, except, finally"
   ]
  },
  {
   "cell_type": "code",
   "execution_count": 33,
   "metadata": {},
   "outputs": [
    {
     "name": "stdout",
     "output_type": "stream",
     "text": [
      "You are an adult\n"
     ]
    }
   ],
   "source": [
    "if age > 18:\n",
    "    print(\"You are an adult\")"
   ]
  },
  {
   "cell_type": "markdown",
   "metadata": {},
   "source": [
    "Summary"
   ]
  },
  {
   "cell_type": "markdown",
   "metadata": {},
   "source": [
    "1. Values: Basic data (numbers, booleans, strings)."
   ]
  },
  {
   "cell_type": "markdown",
   "metadata": {},
   "source": [
    "2. Expressions: Code that evaluates to a value (5 + 3 → 8)."
   ]
  },
  {
   "cell_type": "markdown",
   "metadata": {},
   "source": [
    "3. Statements: Complete instructions (x = 10, print(x))."
   ]
  },
  {
   "cell_type": "markdown",
   "metadata": {},
   "source": [
    "4. Operators: Symbols used for calculations and comparisons.\n"
   ]
  },
  {
   "cell_type": "markdown",
   "metadata": {},
   "source": [
    "5. Variables: Store values (name = \"Alice\")."
   ]
  },
  {
   "cell_type": "markdown",
   "metadata": {},
   "source": [
    "6. Keywords: Reserved words (if, for, return)."
   ]
  },
  {
   "cell_type": "markdown",
   "metadata": {},
   "source": [
    "DAY-3: HOUR#2,3"
   ]
  },
  {
   "cell_type": "markdown",
   "metadata": {},
   "source": [
    "String Operations in Python"
   ]
  },
  {
   "cell_type": "markdown",
   "metadata": {},
   "source": [
    "Strings in Python are immutable sequences of characters. Python provides many built-in operations to manipulate strings effectively."
   ]
  },
  {
   "cell_type": "markdown",
   "metadata": {},
   "source": [
    "1. Creating Strings"
   ]
  },
  {
   "cell_type": "markdown",
   "metadata": {},
   "source": [
    "A string is created using single ('), double (\"), or triple quotes (''' or \"\"\")."
   ]
  },
  {
   "cell_type": "code",
   "execution_count": 34,
   "metadata": {},
   "outputs": [],
   "source": [
    "str1 = 'Hello'\n",
    "str2 = \"Python\"\n",
    "str3 = '''This is a \n",
    "multi-line string.'''"
   ]
  },
  {
   "cell_type": "markdown",
   "metadata": {},
   "source": [
    "2. String Concatenation (+)"
   ]
  },
  {
   "cell_type": "markdown",
   "metadata": {},
   "source": [
    "You can join two or more strings using the + operator."
   ]
  },
  {
   "cell_type": "code",
   "execution_count": 35,
   "metadata": {},
   "outputs": [
    {
     "name": "stdout",
     "output_type": "stream",
     "text": [
      "John Doe\n"
     ]
    }
   ],
   "source": [
    "first_name = \"John\"\n",
    "last_name = \"Doe\"\n",
    "full_name = first_name + \" \" + last_name\n",
    "print(full_name)  # Output: John Doe"
   ]
  },
  {
   "cell_type": "markdown",
   "metadata": {},
   "source": [
    "3. String Repetition (*)"
   ]
  },
  {
   "cell_type": "markdown",
   "metadata": {},
   "source": [
    "Repeating a string multiple times."
   ]
  },
  {
   "cell_type": "code",
   "execution_count": 36,
   "metadata": {},
   "outputs": [
    {
     "name": "stdout",
     "output_type": "stream",
     "text": [
      "Hi! Hi! Hi! \n"
     ]
    }
   ],
   "source": [
    "greeting = \"Hi! \" * 3\n",
    "print(greeting)  # Output: Hi! Hi! Hi! "
   ]
  },
  {
   "cell_type": "markdown",
   "metadata": {},
   "source": [
    "4. String Indexing and Slicing"
   ]
  },
  {
   "cell_type": "markdown",
   "metadata": {},
   "source": [
    "Strings are indexed starting from 0. You can access characters or substrings using indexing and slicing."
   ]
  },
  {
   "cell_type": "markdown",
   "metadata": {},
   "source": [
    "Indexing"
   ]
  },
  {
   "cell_type": "code",
   "execution_count": 159,
   "metadata": {},
   "outputs": [
    {
     "name": "stdout",
     "output_type": "stream",
     "text": [
      "P\n",
      "n\n"
     ]
    }
   ],
   "source": [
    "word = \"Python\"\n",
    "print(word[-6])   # Output: P (First character)\n",
    "print(word[5])  # Output: n (Last character)"
   ]
  },
  {
   "cell_type": "markdown",
   "metadata": {},
   "source": [
    "Slicing ([start:end:step])"
   ]
  },
  {
   "cell_type": "code",
   "execution_count": 38,
   "metadata": {},
   "outputs": [
    {
     "name": "stdout",
     "output_type": "stream",
     "text": [
      "Prog\n",
      "Progra\n",
      "gramming\n",
      "Pormig\n"
     ]
    }
   ],
   "source": [
    "text = \"Programming\"\n",
    "print(text[0:4])   # Output: Prog\n",
    "print(text[:6])    # Output: Progra (default start=0)\n",
    "print(text[3:])    # Output: gramming (default end=last index)\n",
    "print(text[::2])   # Output: Pormig (step=2)"
   ]
  },
  {
   "cell_type": "markdown",
   "metadata": {},
   "source": [
    "5. String Length (len())"
   ]
  },
  {
   "cell_type": "markdown",
   "metadata": {},
   "source": [
    "The len() function returns the length of a string."
   ]
  },
  {
   "cell_type": "code",
   "execution_count": 160,
   "metadata": {},
   "outputs": [
    {
     "name": "stdout",
     "output_type": "stream",
     "text": [
      "11\n"
     ]
    }
   ],
   "source": [
    "message = \"Hello World\"\n",
    "print(len(message))  # Output: 11"
   ]
  },
  {
   "cell_type": "markdown",
   "metadata": {},
   "source": [
    "6. String Methods"
   ]
  },
  {
   "cell_type": "markdown",
   "metadata": {},
   "source": [
    "Python provides many string methods for manipulation."
   ]
  },
  {
   "cell_type": "markdown",
   "metadata": {},
   "source": [
    "Changing Case"
   ]
  },
  {
   "cell_type": "code",
   "execution_count": 146,
   "metadata": {},
   "outputs": [
    {
     "name": "stdout",
     "output_type": "stream",
     "text": [
      "HELLO PYTHON\n",
      "hello python\n",
      "Hello Python\n",
      "Hello python\n"
     ]
    }
   ],
   "source": [
    "text = \"hello Python\"\n",
    "print(text.upper())   # Output: HELLO PYTHON\n",
    "print(text.lower())   # Output: hello python\n",
    "print(text.title())   # Output: Hello Python\n",
    "print(text.capitalize())  # Output: Hello python"
   ]
  },
  {
   "cell_type": "markdown",
   "metadata": {},
   "source": [
    "Checking String Properties"
   ]
  },
  {
   "cell_type": "code",
   "execution_count": 163,
   "metadata": {},
   "outputs": [
    {
     "name": "stdout",
     "output_type": "stream",
     "text": [
      "True\n",
      "False\n",
      "True\n",
      "False\n"
     ]
    }
   ],
   "source": [
    "text = \"Python\"\n",
    "print(text.isalpha())   # False (contains numbers)\n",
    "print(text.isdigit())   # False (not all characters are digits)\n",
    "print(text.isalnum())   # True (contains only letters & numbers)\n",
    "print(text.isspace())   # True (contains only spaces)"
   ]
  },
  {
   "cell_type": "markdown",
   "metadata": {},
   "source": [
    "Finding and Replacing"
   ]
  },
  {
   "cell_type": "code",
   "execution_count": 165,
   "metadata": {},
   "outputs": [
    {
     "name": "stdout",
     "output_type": "stream",
     "text": [
      "10\n",
      "easy\n",
      "Python is powerful\n"
     ]
    }
   ],
   "source": [
    "sentence = \"Python is easy\"\n",
    "print(sentence.find(\"easy\"))    # Output: 10 (index of \"easy\")\n",
    "x=sentence.find(\"easy\")\n",
    "print(sentence[x:])\n",
    "print(sentence.replace(\"easy\", \"powerful\"))  # Output: Python is powerful"
   ]
  },
  {
   "cell_type": "markdown",
   "metadata": {},
   "source": [
    "Removing Whitespaces"
   ]
  },
  {
   "cell_type": "code",
   "execution_count": null,
   "metadata": {},
   "outputs": [
    {
     "name": "stdout",
     "output_type": "stream",
     "text": [
      "Hello\n",
      "Hello  \n",
      "  Hello\n"
     ]
    }
   ],
   "source": [
    "text = \"  Hello  \"\n",
    "print(text.strip())   # Output: \"Hello\" (removes spaces from both sides)\n",
    "print(text.lstrip())  # Output: \"Hello  \" (removes left spaces)\n",
    "print(text.rstrip())  # Output: \"  Hello\" (removes right spaces)"
   ]
  },
  {
   "cell_type": "markdown",
   "metadata": {},
   "source": [
    "7. Splitting and Joining Strings"
   ]
  },
  {
   "cell_type": "markdown",
   "metadata": {},
   "source": [
    "Splitting (split())"
   ]
  },
  {
   "cell_type": "markdown",
   "metadata": {},
   "source": [
    "Splits a string into a list using a delimiter."
   ]
  },
  {
   "cell_type": "code",
   "execution_count": 44,
   "metadata": {},
   "outputs": [
    {
     "name": "stdout",
     "output_type": "stream",
     "text": [
      "['apple', 'banana', 'grape']\n"
     ]
    }
   ],
   "source": [
    "text = \"apple,banana,grape\"\n",
    "words = text.split(\",\")  \n",
    "print(words)  # Output: ['apple', 'banana', 'grape']"
   ]
  },
  {
   "cell_type": "markdown",
   "metadata": {},
   "source": [
    "Joining (join()): Joins a list of strings into a single string."
   ]
  },
  {
   "cell_type": "code",
   "execution_count": 167,
   "metadata": {},
   "outputs": [
    {
     "name": "stdout",
     "output_type": "stream",
     "text": [
      "apple banana grape\n"
     ]
    }
   ],
   "source": [
    "words = ['apple', 'banana', 'grape']\n",
    "result = \" \".join(words)\n",
    "print(result)  # Output: apple-banana-grape"
   ]
  },
  {
   "cell_type": "markdown",
   "metadata": {},
   "source": [
    "8. String Formatting"
   ]
  },
  {
   "cell_type": "markdown",
   "metadata": {},
   "source": [
    "Using format()"
   ]
  },
  {
   "cell_type": "code",
   "execution_count": 46,
   "metadata": {},
   "outputs": [
    {
     "name": "stdout",
     "output_type": "stream",
     "text": [
      "My name is Alice and I am 25 years old.\n"
     ]
    }
   ],
   "source": [
    "name = \"Alice\"\n",
    "age = 25\n",
    "print(\"My name is {} and I am {} years old.\".format(name, age))"
   ]
  },
  {
   "cell_type": "markdown",
   "metadata": {},
   "source": [
    "Using f-strings (Recommended)"
   ]
  },
  {
   "cell_type": "code",
   "execution_count": 47,
   "metadata": {},
   "outputs": [
    {
     "name": "stdout",
     "output_type": "stream",
     "text": [
      "My name is Alice and I am 25 years old.\n"
     ]
    }
   ],
   "source": [
    "name = \"Alice\"\n",
    "age = 25\n",
    "print(f\"My name is {name} and I am {age} years old.\")"
   ]
  },
  {
   "cell_type": "markdown",
   "metadata": {},
   "source": [
    "9. Escape Characters"
   ]
  },
  {
   "cell_type": "raw",
   "metadata": {
    "vscode": {
     "languageId": "raw"
    }
   },
   "source": [
    "Escape Character\tMeaning\n",
    "\\n\t                Newline\n",
    "\\t\t                Tab\n",
    "\\'\t                Single quote\n",
    "\\\"\t                Double quote\n",
    "\\\\\t                Backslash"
   ]
  },
  {
   "cell_type": "code",
   "execution_count": 169,
   "metadata": {},
   "outputs": [
    {
     "name": "stdout",
     "output_type": "stream",
     "text": [
      "Hello\n",
      "World\n",
      "She said \"Hello!\"\n"
     ]
    }
   ],
   "source": [
    "print(\"Hello\\nWorld\")   # Newline\n",
    "print(\"She said \\\"Hello!\\\"\")  # Output: She said \"Hello!\""
   ]
  },
  {
   "cell_type": "markdown",
   "metadata": {},
   "source": [
    "Summary"
   ]
  },
  {
   "cell_type": "raw",
   "metadata": {
    "vscode": {
     "languageId": "raw"
    }
   },
   "source": [
    "Operation\t        Example\t                  Output\n",
    "Concatenation\t\"Hello \" + \"World\"\t       \"Hello World\"\n",
    "Repetition\t     \"Hello \" * 3\t         \"Hello Hello Hello \"\n",
    "Indexing\t      \"Python\"[1]\t                \"y\"\n",
    "Slicing\t         \"Python\"[2:5]\t               \"tho\"\n",
    "Length\t          len(\"Python\")\t                 6\n",
    "Uppercase\t     \"python\".upper()\t          \"PYTHON\"\n",
    "Lowercase\t     \"PYTHON\".lower()\t          \"python\"\n",
    "Replace\t        \"Hello\".replace(\"H\", \"J\")\t  \"Jello\"\n",
    "Split\t        \"a,b,c\".split(\",\")\t        ['a', 'b', 'c']\n",
    "Join\t        \"-\".join(['a', 'b', 'c'])\t    \"a-b-c\""
   ]
  },
  {
   "cell_type": "markdown",
   "metadata": {},
   "source": [
    "DAY-3: HOUR#4"
   ]
  },
  {
   "cell_type": "markdown",
   "metadata": {},
   "source": [
    "Input, Type Casting, and Comments in Python"
   ]
  },
  {
   "cell_type": "markdown",
   "metadata": {},
   "source": [
    "1. Input in Python (input()): The input() function is used to take user input in Python."
   ]
  },
  {
   "cell_type": "code",
   "execution_count": 171,
   "metadata": {},
   "outputs": [
    {
     "name": "stdout",
     "output_type": "stream",
     "text": [
      "Hello, 20!\n"
     ]
    }
   ],
   "source": [
    "name = input(\"Enter your name: \")\n",
    "print(\"Hello, \" + name + \"!\")"
   ]
  },
  {
   "cell_type": "markdown",
   "metadata": {},
   "source": [
    "Taking Integer or Float Input: By default, input() returns a string, so we need type conversion."
   ]
  },
  {
   "cell_type": "code",
   "execution_count": 172,
   "metadata": {},
   "outputs": [
    {
     "name": "stdout",
     "output_type": "stream",
     "text": [
      "Your age is: 20\n"
     ]
    }
   ],
   "source": [
    "age = int(input(\"Enter your age: \"))  # Convert input to integer\n",
    "print(\"Your age is:\", age)"
   ]
  },
  {
   "cell_type": "code",
   "execution_count": 173,
   "metadata": {},
   "outputs": [
    {
     "name": "stdout",
     "output_type": "stream",
     "text": [
      "Your salary is: 15000.0\n"
     ]
    }
   ],
   "source": [
    "salary = float(input(\"Enter your salary: \"))  # Convert input to float\n",
    "print(\"Your salary is:\", salary)"
   ]
  },
  {
   "cell_type": "markdown",
   "metadata": {},
   "source": [
    "2. Type Casting (Type Conversion)"
   ]
  },
  {
   "cell_type": "markdown",
   "metadata": {},
   "source": [
    "Type casting means converting one data type into another."
   ]
  },
  {
   "cell_type": "raw",
   "metadata": {
    "vscode": {
     "languageId": "raw"
    }
   },
   "source": [
    "Function\t    Description\n",
    "int(x)\t    Converts x to an integer\n",
    "float(x)\tConverts x to a floating-point number\n",
    "str(x)\t    Converts x to a string\n",
    "bool(x)\t    Converts x to a boolean"
   ]
  },
  {
   "cell_type": "code",
   "execution_count": 55,
   "metadata": {},
   "outputs": [
    {
     "name": "stdout",
     "output_type": "stream",
     "text": [
      "150\n"
     ]
    }
   ],
   "source": [
    "num_str = \"100\"\n",
    "num_int = int(num_str)  # Convert string to integer\n",
    "print(num_int + 50)  # Output: 150"
   ]
  },
  {
   "cell_type": "code",
   "execution_count": 56,
   "metadata": {},
   "outputs": [
    {
     "name": "stdout",
     "output_type": "stream",
     "text": [
      "Pi value: 3.1416\n"
     ]
    }
   ],
   "source": [
    "pi = 3.1416\n",
    "pi_str = str(pi)  # Convert float to string\n",
    "print(\"Pi value: \" + pi_str)  # Output: Pi value: 3.1416"
   ]
  },
  {
   "cell_type": "code",
   "execution_count": 174,
   "metadata": {},
   "outputs": [
    {
     "name": "stdout",
     "output_type": "stream",
     "text": [
      "False\n",
      "1\n"
     ]
    }
   ],
   "source": [
    "value = bool(0)  # Convert integer to boolean\n",
    "val=int(True)\n",
    "print(value)  # Output: False\n",
    "print(val)"
   ]
  },
  {
   "cell_type": "markdown",
   "metadata": {},
   "source": [
    "3. Comments in Python: Comments are used to explain code and do not affect execution."
   ]
  },
  {
   "cell_type": "markdown",
   "metadata": {},
   "source": [
    "Single-Line Comment (#)"
   ]
  },
  {
   "cell_type": "code",
   "execution_count": 58,
   "metadata": {},
   "outputs": [
    {
     "name": "stdout",
     "output_type": "stream",
     "text": [
      "Hello, World!\n"
     ]
    }
   ],
   "source": [
    "# This is a single-line comment\n",
    "print(\"Hello, World!\")  # This prints a message"
   ]
  },
  {
   "cell_type": "markdown",
   "metadata": {},
   "source": [
    "Multi-Line Comment (\"\"\" \"\"\" or ''' ''')"
   ]
  },
  {
   "cell_type": "code",
   "execution_count": 59,
   "metadata": {},
   "outputs": [
    {
     "name": "stdout",
     "output_type": "stream",
     "text": [
      "Python is fun!\n"
     ]
    }
   ],
   "source": [
    "\"\"\"\n",
    "This is a multi-line comment.\n",
    "It spans multiple lines.\n",
    "\"\"\"\n",
    "print(\"Python is fun!\")"
   ]
  },
  {
   "cell_type": "markdown",
   "metadata": {},
   "source": [
    "Summary"
   ]
  },
  {
   "cell_type": "raw",
   "metadata": {
    "vscode": {
     "languageId": "raw"
    }
   },
   "source": [
    "Concept\t                        Example\t                                              Output\n",
    "input()\t                input(\"Enter your name: \")\t                                User Input\n",
    "Integer Input\t        int(input(\"Enter a number: \"))\t                        Converts input to int\n",
    "Float Input\t            float(input(\"Enter a decimal: \"))\t                    Converts input to float\n",
    "Type Conversion\t        int(\"123\"), str(45), float(\"3.14\")\t                    Converts data types\n",
    "Single-line Comment\t    # This is a comment\t                                        No output\n",
    "Multi-line Comment\t    \"\"\"This is a comment\"\"\"\t                                    No output"
   ]
  },
  {
   "cell_type": "markdown",
   "metadata": {},
   "source": [
    "DAY-4: HOUR#1,2"
   ]
  },
  {
   "cell_type": "markdown",
   "metadata": {},
   "source": [
    "Data Structures: Lists & Tuples in Python"
   ]
  },
  {
   "cell_type": "markdown",
   "metadata": {},
   "source": [
    "Python provides built-in data structures like lists and tuples to store and manipulate collections of data."
   ]
  },
  {
   "cell_type": "markdown",
   "metadata": {},
   "source": [
    "1. Lists in Python (list): A list is a mutable (changeable) ordered collection of elements."
   ]
  },
  {
   "cell_type": "markdown",
   "metadata": {},
   "source": [
    "Creating a List"
   ]
  },
  {
   "cell_type": "code",
   "execution_count": 60,
   "metadata": {},
   "outputs": [
    {
     "name": "stdout",
     "output_type": "stream",
     "text": [
      "[10, 20, 30, 'Python', 3.14]\n"
     ]
    }
   ],
   "source": [
    "# A list can hold different data types\n",
    "my_list = [10, 20, 30, \"Python\", 3.14]\n",
    "print(my_list)"
   ]
  },
  {
   "cell_type": "markdown",
   "metadata": {},
   "source": [
    "Accessing Elements of List"
   ]
  },
  {
   "cell_type": "code",
   "execution_count": 61,
   "metadata": {},
   "outputs": [
    {
     "name": "stdout",
     "output_type": "stream",
     "text": [
      "10\n",
      "3.14\n"
     ]
    }
   ],
   "source": [
    "print(my_list[0])  # First element\n",
    "print(my_list[-1]) # Last element"
   ]
  },
  {
   "cell_type": "markdown",
   "metadata": {},
   "source": [
    "Modifying a List"
   ]
  },
  {
   "cell_type": "code",
   "execution_count": 62,
   "metadata": {},
   "outputs": [
    {
     "name": "stdout",
     "output_type": "stream",
     "text": [
      "[10, 99, 30, 'Python', 3.14]\n"
     ]
    }
   ],
   "source": [
    "my_list[1] = 99  # Changing the second element\n",
    "print(my_list)"
   ]
  },
  {
   "cell_type": "markdown",
   "metadata": {},
   "source": [
    "List Methods"
   ]
  },
  {
   "cell_type": "raw",
   "metadata": {},
   "source": [
    "Method\t            Description\t                                Example\n",
    "append(x)\t        Adds x to the end\t                        list.append(5)\n",
    "insert(i, x)\t    Inserts x at index i\t                    list.insert(1, 100)\n",
    "remove(x)\t        Removes first occurrence of x\t            list.remove(10)\n",
    "pop(i)\t            Removes and returns element at index i\t    list.pop(2)\n",
    "sort()\t            Sorts list in ascending order\t            list.sort()\n",
    "reverse()\t        Reverses the list\t                        list.reverse()"
   ]
  },
  {
   "cell_type": "markdown",
   "metadata": {},
   "source": [
    "Example of List Methods"
   ]
  },
  {
   "cell_type": "code",
   "execution_count": 179,
   "metadata": {},
   "outputs": [
    {
     "name": "stdout",
     "output_type": "stream",
     "text": [
      "[5, 2, 8, 1, 10]\n",
      "[5, 100, 2, 8, 1, 10]\n",
      "[1, 2, 5, 8, 10, 100]\n"
     ]
    }
   ],
   "source": [
    "numbers = [5, 2, 8, 1]\n",
    "numbers.append(10)   # Adds 10 to the end\n",
    "print(numbers)\n",
    "numbers.insert(1, 100)\n",
    "print(numbers)\n",
    "numbers.sort()       # Sorts the list\n",
    "print(numbers)       # Output: [1, 2, 5, 8, 10]"
   ]
  },
  {
   "cell_type": "markdown",
   "metadata": {},
   "source": [
    "2. Tuples in Python (tuple): A tuple is an immutable (unchangeable) ordered collection."
   ]
  },
  {
   "cell_type": "markdown",
   "metadata": {},
   "source": [
    "Creating a Tuple"
   ]
  },
  {
   "cell_type": "code",
   "execution_count": 67,
   "metadata": {},
   "outputs": [
    {
     "name": "stdout",
     "output_type": "stream",
     "text": [
      "(10, 20, 30, 'Python', 3.14)\n"
     ]
    }
   ],
   "source": [
    "my_tuple = (10, 20, 30, \"Python\", 3.14)\n",
    "print(my_tuple)"
   ]
  },
  {
   "cell_type": "markdown",
   "metadata": {},
   "source": [
    "Accessing Tuple Elements"
   ]
  },
  {
   "cell_type": "code",
   "execution_count": 68,
   "metadata": {},
   "outputs": [
    {
     "name": "stdout",
     "output_type": "stream",
     "text": [
      "10\n",
      "3.14\n"
     ]
    }
   ],
   "source": [
    "print(my_tuple[0])   # First element\n",
    "print(my_tuple[-1])  # Last element"
   ]
  },
  {
   "cell_type": "markdown",
   "metadata": {},
   "source": [
    "Why Use Tuples?                 \n",
    "Faster than lists (due to immutability).\n",
    "Used for fixed data that should not be modified.\n",
    "Can be used as dictionary keys (since they are immutable)."
   ]
  },
  {
   "cell_type": "markdown",
   "metadata": {},
   "source": [
    "Tuple Methods"
   ]
  },
  {
   "cell_type": "code",
   "execution_count": null,
   "metadata": {
    "vscode": {
     "languageId": "latex"
    }
   },
   "outputs": [],
   "source": [
    "Method\t    Description\t                                    Example\n",
    "count(x)\tCounts occurrences of x\t                        tuple.count(3)\n",
    "index(x)\tReturns index of first occurrence of x\t        tuple.index(20)"
   ]
  },
  {
   "cell_type": "markdown",
   "metadata": {},
   "source": [
    "Example of Tuple Methods"
   ]
  },
  {
   "cell_type": "code",
   "execution_count": 69,
   "metadata": {},
   "outputs": [
    {
     "name": "stdout",
     "output_type": "stream",
     "text": [
      "3\n",
      "2\n"
     ]
    }
   ],
   "source": [
    "tup = (1, 2, 3, 2, 2, 4)\n",
    "print(tup.count(2))  # Output: 3\n",
    "print(tup.index(3))  # Output: 2"
   ]
  },
  {
   "cell_type": "markdown",
   "metadata": {},
   "source": [
    "Key Differences Between Lists and Tuples"
   ]
  },
  {
   "cell_type": "code",
   "execution_count": null,
   "metadata": {
    "vscode": {
     "languageId": "latex"
    }
   },
   "outputs": [],
   "source": [
    "Feature\t                    List\t                                    Tuple\n",
    "Mutable?\t                ✅ Yes (can change elements)\t            ❌ No (cannot change elements)\n",
    "Syntax\t                    [1, 2, 3]\t                              (1, 2, 3)\n",
    "Speed\t                    Slower\t                                  Faster\n",
    "Methods\t                    More functions\t                          Fewer functions\n",
    "Memory Usage\t            More\t                                  Less"
   ]
  },
  {
   "cell_type": "markdown",
   "metadata": {},
   "source": [
    "DAY-4: HOUR#3,4"
   ]
  },
  {
   "cell_type": "markdown",
   "metadata": {},
   "source": [
    "Data Structures: Dictionaries & Sets in Python\n",
    "\n",
    "Python provides dictionaries and sets to store collections of data efficiently."
   ]
  },
  {
   "cell_type": "markdown",
   "metadata": {},
   "source": [
    "1. Dictionaries in Python (dict):\n",
    "A dictionary is an unordered collection of key-value pairs.\n",
    "\n",
    "Keys must be unique and immutable (e.g., strings, numbers, tuples).\n",
    "Values can be of any type."
   ]
  },
  {
   "cell_type": "markdown",
   "metadata": {},
   "source": [
    "Creating a Dictionary"
   ]
  },
  {
   "cell_type": "code",
   "execution_count": null,
   "metadata": {},
   "outputs": [
    {
     "name": "stdout",
     "output_type": "stream",
     "text": [
      "{'name': 'Alice', 'age': 22, 'grade': 'A', 'subjects': ['Math', 'CS']}\n"
     ]
    }
   ],
   "source": [
    "# Dictionary with keys and values\n",
    "student = {\n",
    "    \"name\": \"Alice\",\n",
    "    \"age\": 22,\n",
    "    \"grade\": \"A\",\n",
    "    \"subjects\": [\"Math\", \"CS\"]\n",
    "}\n",
    "print(student)"
   ]
  },
  {
   "cell_type": "markdown",
   "metadata": {},
   "source": [
    "Adding & Updating Entries"
   ]
  },
  {
   "cell_type": "code",
   "execution_count": 72,
   "metadata": {},
   "outputs": [
    {
     "name": "stdout",
     "output_type": "stream",
     "text": [
      "{'name': 'Alice', 'age': 23, 'grade': 'A', 'subjects': ['Math', 'CS'], 'city': 'New York'}\n"
     ]
    }
   ],
   "source": [
    "student[\"city\"] = \"New York\"  # Add new key-value pair\n",
    "student[\"age\"] = 23  # Update existing value\n",
    "print(student)"
   ]
  },
  {
   "cell_type": "markdown",
   "metadata": {},
   "source": [
    "Removing Entries"
   ]
  },
  {
   "cell_type": "code",
   "execution_count": 73,
   "metadata": {},
   "outputs": [
    {
     "name": "stdout",
     "output_type": "stream",
     "text": [
      "{'name': 'Alice', 'age': 23, 'city': 'New York'}\n"
     ]
    }
   ],
   "source": [
    "student.pop(\"grade\")  # Removes \"grade\"\n",
    "del student[\"subjects\"]  # Deletes \"subjects\"\n",
    "print(student)"
   ]
  },
  {
   "cell_type": "markdown",
   "metadata": {},
   "source": [
    "Dictionary Methods"
   ]
  },
  {
   "cell_type": "code",
   "execution_count": null,
   "metadata": {
    "vscode": {
     "languageId": "latex"
    }
   },
   "outputs": [],
   "source": [
    "Method\t        Description\t                            Example\n",
    "\n",
    "keys()\t        Returns all keys\t                    dict.keys()\n",
    "values()\t    Returns all values\t                    dict.values()\n",
    "items()\t        Returns key-value pairs\t                dict.items()\n",
    "update()\t    Updates dictionary with another\t        dict.update(new_dict)\n",
    "pop(key)\t    Removes a key-value pair\t            dict.pop(\"age\")"
   ]
  },
  {
   "cell_type": "markdown",
   "metadata": {},
   "source": [
    "Iterating Over a Dictionary"
   ]
  },
  {
   "cell_type": "code",
   "execution_count": null,
   "metadata": {},
   "outputs": [
    {
     "name": "stdout",
     "output_type": "stream",
     "text": [
      "name : Alice\n",
      "age : 23\n",
      "city : New York\n"
     ]
    }
   ],
   "source": [
    "for key, value in student.items():\n",
    "    print(key, \":\", value)"
   ]
  },
  {
   "cell_type": "markdown",
   "metadata": {},
   "source": [
    "2. Sets in Python (set):\n",
    "A set is an unordered collection of unique elements.\n",
    "\n",
    "No duplicates allowed.\n",
    "Unordered and unindexed."
   ]
  },
  {
   "cell_type": "markdown",
   "metadata": {},
   "source": [
    "Creating a Set"
   ]
  },
  {
   "cell_type": "code",
   "execution_count": null,
   "metadata": {},
   "outputs": [
    {
     "name": "stdout",
     "output_type": "stream",
     "text": [
      "{1, 2, 3, 4, 5}\n"
     ]
    }
   ],
   "source": [
    "my_set = {1, 2, 3, 4, 5}\n",
    "print(my_set)"
   ]
  },
  {
   "cell_type": "markdown",
   "metadata": {},
   "source": [
    "Adding & Removing Elements"
   ]
  },
  {
   "cell_type": "code",
   "execution_count": null,
   "metadata": {},
   "outputs": [
    {
     "name": "stdout",
     "output_type": "stream",
     "text": [
      "{1, 2, 4, 5, 6}\n"
     ]
    }
   ],
   "source": [
    "my_set.add(6)  # Add a new element\n",
    "my_set.remove(3)  # Remove element (error if not found)\n",
    "my_set.discard(10)  # Remove element (no error if not found)\n",
    "print(my_set)"
   ]
  },
  {
   "cell_type": "markdown",
   "metadata": {},
   "source": [
    "Set Operations"
   ]
  },
  {
   "cell_type": "code",
   "execution_count": null,
   "metadata": {
    "vscode": {
     "languageId": "latex"
    }
   },
   "outputs": [],
   "source": [
    "Operation\t            Description\t                    Example\n",
    "union()\t                Combines two sets\t            A.union(B)\n",
    "intersection()\t        Common elements\t                A.intersection(B)\n",
    "difference()\t        Elements in A, not in B\t        A.difference(B)\n",
    "symmetric_difference()\tElements not in both\t        A.symmetric_difference(B)\n"
   ]
  },
  {
   "cell_type": "markdown",
   "metadata": {},
   "source": [
    "Example of Set Operations"
   ]
  },
  {
   "cell_type": "code",
   "execution_count": null,
   "metadata": {},
   "outputs": [
    {
     "name": "stdout",
     "output_type": "stream",
     "text": [
      "{1, 2, 3, 4, 5, 6}\n",
      "{3, 4}\n",
      "{1, 2}\n"
     ]
    }
   ],
   "source": [
    "A = {1, 2, 3, 4}\n",
    "B = {3, 4, 5, 6}\n",
    "\n",
    "print(A.union(B))  # {1, 2, 3, 4, 5, 6}\n",
    "print(A.intersection(B))  # {3, 4}\n",
    "print(A.difference(B))  # {1, 2}"
   ]
  },
  {
   "cell_type": "markdown",
   "metadata": {},
   "source": [
    "Key Differences Between Dictionaries & Sets"
   ]
  },
  {
   "cell_type": "code",
   "execution_count": null,
   "metadata": {
    "vscode": {
     "languageId": "latex"
    }
   },
   "outputs": [],
   "source": [
    "Feature\t            Dictionary\t                                    Set\n",
    "Structure\t        Key-Value pairs\t                                Unique values\n",
    "Duplicates?\t        No duplicate keys\t                            No duplicate values\n",
    "Order?\t            Maintains insertion order (Python 3.7+)\t        Unordered\n",
    "Usage\t            Lookup table, fast key access\t                Fast membership test"
   ]
  },
  {
   "cell_type": "markdown",
   "metadata": {},
   "source": [
    "DAY-5: HOUR#1,2"
   ]
  },
  {
   "cell_type": "markdown",
   "metadata": {},
   "source": [
    "Conditional Execution in Python:\n",
    "Conditional execution allows the program to make decisions and execute different blocks of code based on conditions."
   ]
  },
  {
   "cell_type": "markdown",
   "metadata": {},
   "source": [
    "1. If, Elif, and Else Statements\n",
    "\n",
    "Python uses if, elif, and else statements to control program flow."
   ]
  },
  {
   "cell_type": "markdown",
   "metadata": {},
   "source": [
    "Syntax"
   ]
  },
  {
   "cell_type": "code",
   "execution_count": null,
   "metadata": {
    "vscode": {
     "languageId": "latex"
    }
   },
   "outputs": [],
   "source": [
    "if condition:\n",
    "    # Block of code if condition is True\n",
    "elif another_condition:\n",
    "    # Block of code if the first condition is False but this one is True\n",
    "else:\n",
    "    # Block of code if all conditions are False\n"
   ]
  },
  {
   "cell_type": "markdown",
   "metadata": {},
   "source": [
    "Example:"
   ]
  },
  {
   "cell_type": "code",
   "execution_count": null,
   "metadata": {},
   "outputs": [
    {
     "name": "stdout",
     "output_type": "stream",
     "text": [
      "You are an adult.\n"
     ]
    }
   ],
   "source": [
    "age = 20\n",
    "\n",
    "if age < 18:\n",
    "    print(\"You are a minor.\")\n",
    "elif age == 18:\n",
    "    print(\"You are exactly 18.\")\n",
    "else:\n",
    "    print(\"You are an adult.\")"
   ]
  },
  {
   "cell_type": "markdown",
   "metadata": {},
   "source": [
    "2. Break, Continue, and Pass Statements\n",
    "\n",
    "These statements control loops and conditionals."
   ]
  },
  {
   "cell_type": "markdown",
   "metadata": {},
   "source": [
    "break Statement (Exit the Loop):\n",
    "Stops execution of a loop immediately."
   ]
  },
  {
   "cell_type": "code",
   "execution_count": 79,
   "metadata": {},
   "outputs": [
    {
     "name": "stdout",
     "output_type": "stream",
     "text": [
      "1\n",
      "2\n"
     ]
    }
   ],
   "source": [
    "for num in range(1, 6):\n",
    "    if num == 3:\n",
    "        break\n",
    "    print(num)"
   ]
  },
  {
   "cell_type": "markdown",
   "metadata": {},
   "source": [
    "continue Statement (Skip to Next Iteration):\n",
    "Skips the current iteration and moves to the next."
   ]
  },
  {
   "cell_type": "code",
   "execution_count": 80,
   "metadata": {},
   "outputs": [
    {
     "name": "stdout",
     "output_type": "stream",
     "text": [
      "1\n",
      "2\n",
      "4\n",
      "5\n"
     ]
    }
   ],
   "source": [
    "for num in range(1, 6):\n",
    "    if num == 3:\n",
    "        continue\n",
    "    print(num)"
   ]
  },
  {
   "cell_type": "markdown",
   "metadata": {},
   "source": [
    "pass Statement (Placeholder):\n",
    "Does nothing; used when code is yet to be implemented."
   ]
  },
  {
   "cell_type": "code",
   "execution_count": 81,
   "metadata": {},
   "outputs": [],
   "source": [
    "if True:\n",
    "    pass  # Placeholder for future code"
   ]
  },
  {
   "cell_type": "markdown",
   "metadata": {},
   "source": [
    "3. Nested Conditionals:\n",
    "An if statement inside another if statement."
   ]
  },
  {
   "cell_type": "markdown",
   "metadata": {},
   "source": [
    "Example:"
   ]
  },
  {
   "cell_type": "code",
   "execution_count": 184,
   "metadata": {},
   "outputs": [
    {
     "name": "stdout",
     "output_type": "stream",
     "text": [
      "Positive even number\n"
     ]
    }
   ],
   "source": [
    "num = 10\n",
    "\n",
    "if num > 0:\n",
    "    if num % 2 == 0:\n",
    "        print(\"Positive even number\")\n",
    "    else:\n",
    "        print(\"Positive odd number\")\n",
    "else:\n",
    "    print(\"Not a positive number\")"
   ]
  },
  {
   "cell_type": "markdown",
   "metadata": {},
   "source": [
    " 4. Conditional (Ternary) Expression:\n",
    "A one-line shortcut for if-else."
   ]
  },
  {
   "cell_type": "markdown",
   "metadata": {},
   "source": [
    "Syntax:"
   ]
  },
  {
   "cell_type": "markdown",
   "metadata": {},
   "source": [
    "value_if_true if condition else value_if_false\n"
   ]
  },
  {
   "cell_type": "code",
   "execution_count": 83,
   "metadata": {},
   "outputs": [
    {
     "name": "stdout",
     "output_type": "stream",
     "text": [
      "Minor\n"
     ]
    }
   ],
   "source": [
    "age = 17\n",
    "status = \"Adult\" if age >= 18 else \"Minor\"\n",
    "print(status)"
   ]
  },
  {
   "cell_type": "markdown",
   "metadata": {},
   "source": [
    "Summary Table"
   ]
  },
  {
   "cell_type": "code",
   "execution_count": null,
   "metadata": {
    "vscode": {
     "languageId": "latex"
    }
   },
   "outputs": [],
   "source": [
    "Feature\t                        Description\n",
    "if-elif-else\t                Multi-way decision-making\n",
    "break\t                        Exits a loop immediately\n",
    "continue\t                    Skips current iteration, continues next\n",
    "pass\t                        Does nothing (placeholder)\n",
    "Nested if\t                    An if inside another if\n",
    "Ternary Operator\t            One-liner if-else"
   ]
  },
  {
   "cell_type": "markdown",
   "metadata": {},
   "source": [
    "DAY-5: HOUR#3,4"
   ]
  },
  {
   "cell_type": "markdown",
   "metadata": {},
   "source": [
    "Loops, Enumerate, and Advanced Iteration in Python\n",
    "Loops help in automating repetitive tasks in Python.\n",
    "Here’s a breakdown of while, for loops, enumerate(), nested loops, list comprehensions, iterators, and iterables."
   ]
  },
  {
   "cell_type": "markdown",
   "metadata": {},
   "source": [
    "1. while and for Loops"
   ]
  },
  {
   "cell_type": "markdown",
   "metadata": {},
   "source": [
    "while Loop (Runs Until Condition is False):\n",
    "A while loop executes as long as the given condition is True."
   ]
  },
  {
   "cell_type": "code",
   "execution_count": 84,
   "metadata": {},
   "outputs": [
    {
     "name": "stdout",
     "output_type": "stream",
     "text": [
      "Count: 1\n",
      "Count: 2\n",
      "Count: 3\n",
      "Count: 4\n",
      "Count: 5\n"
     ]
    }
   ],
   "source": [
    "count = 1\n",
    "while count <= 5:\n",
    "    print(\"Count:\", count)\n",
    "    count += 1"
   ]
  },
  {
   "cell_type": "markdown",
   "metadata": {},
   "source": [
    "for Loop (Iterates Over a Sequence):\n",
    "A for loop is used to iterate over iterable objects like lists, tuples, strings, and ranges."
   ]
  },
  {
   "cell_type": "code",
   "execution_count": 85,
   "metadata": {},
   "outputs": [
    {
     "name": "stdout",
     "output_type": "stream",
     "text": [
      "Apple\n",
      "Banana\n",
      "Cherry\n"
     ]
    }
   ],
   "source": [
    "fruits = [\"Apple\", \"Banana\", \"Cherry\"]\n",
    "for fruit in fruits:\n",
    "    print(fruit)"
   ]
  },
  {
   "cell_type": "markdown",
   "metadata": {},
   "source": [
    "2. Using enumerate() in Loops:\n",
    "enumerate() is useful when you need both the index and the value while iterating."
   ]
  },
  {
   "cell_type": "code",
   "execution_count": 86,
   "metadata": {},
   "outputs": [
    {
     "name": "stdout",
     "output_type": "stream",
     "text": [
      "Index: 0, Fruit: Apple\n",
      "Index: 1, Fruit: Banana\n",
      "Index: 2, Fruit: Cherry\n"
     ]
    }
   ],
   "source": [
    "fruits = [\"Apple\", \"Banana\", \"Cherry\"]\n",
    "for index, fruit in enumerate(fruits):\n",
    "    print(f\"Index: {index}, Fruit: {fruit}\")"
   ]
  },
  {
   "cell_type": "markdown",
   "metadata": {},
   "source": [
    "3. Nested Loops:\n",
    "A loop inside another loop is called a nested loop."
   ]
  },
  {
   "cell_type": "code",
   "execution_count": 87,
   "metadata": {},
   "outputs": [
    {
     "name": "stdout",
     "output_type": "stream",
     "text": [
      "Outer: 1, Inner: 1\n",
      "Outer: 1, Inner: 2\n",
      "Outer: 2, Inner: 1\n",
      "Outer: 2, Inner: 2\n",
      "Outer: 3, Inner: 1\n",
      "Outer: 3, Inner: 2\n"
     ]
    }
   ],
   "source": [
    "for i in range(1, 4):  # Outer loop\n",
    "    for j in range(1, 3):  # Inner loop\n",
    "        print(f\"Outer: {i}, Inner: {j}\")"
   ]
  },
  {
   "cell_type": "markdown",
   "metadata": {},
   "source": [
    " 4. List Comprehension (Efficient One-Liner Loop):\n",
    "List comprehension is a concise way to create lists."
   ]
  },
  {
   "cell_type": "code",
   "execution_count": 88,
   "metadata": {},
   "outputs": [
    {
     "name": "stdout",
     "output_type": "stream",
     "text": [
      "[1, 4, 9, 16, 25]\n"
     ]
    }
   ],
   "source": [
    "squares = [x**2 for x in range(1, 6)]\n",
    "print(squares)"
   ]
  },
  {
   "cell_type": "markdown",
   "metadata": {},
   "source": [
    "With Condition:"
   ]
  },
  {
   "cell_type": "code",
   "execution_count": 187,
   "metadata": {},
   "outputs": [
    {
     "name": "stdout",
     "output_type": "stream",
     "text": [
      "[0, 2, 4, 6, 8]\n"
     ]
    }
   ],
   "source": [
    "even_numbers = [x for x in range(10) if x % 2 == 0]\n",
    "print(even_numbers)"
   ]
  },
  {
   "cell_type": "markdown",
   "metadata": {},
   "source": [
    "5. Iterators and Iterables:\n",
    "\n",
    "Iterable: Any object that can return an iterator (e.g., lists, tuples, strings).\n",
    "\n",
    "Iterator: An object with a __next__() method that fetches values one at a time."
   ]
  },
  {
   "cell_type": "markdown",
   "metadata": {},
   "source": [
    "Creating Iterator"
   ]
  },
  {
   "cell_type": "code",
   "execution_count": 189,
   "metadata": {},
   "outputs": [
    {
     "name": "stdout",
     "output_type": "stream",
     "text": [
      "1\n",
      "2\n",
      "3\n",
      "4\n"
     ]
    }
   ],
   "source": [
    "numbers = iter([1, 2, 3, 4])\n",
    "print(next(numbers))  # 1\n",
    "print(next(numbers))  # 2\n",
    "print(next(numbers))  # 3\n",
    "print(next(numbers))  # 4"
   ]
  },
  {
   "cell_type": "markdown",
   "metadata": {},
   "source": [
    "Custom Iterator"
   ]
  },
  {
   "cell_type": "code",
   "execution_count": 190,
   "metadata": {},
   "outputs": [
    {
     "name": "stdout",
     "output_type": "stream",
     "text": [
      "1\n",
      "2\n",
      "3\n",
      "4\n",
      "5\n",
      "6\n",
      "7\n",
      "8\n",
      "9\n",
      "10\n"
     ]
    }
   ],
   "source": [
    "# Any class that implements __iter__() and __next__() is an iterator.\n",
    "class Counter:\n",
    "    def __init__(self, start, end):  # __init__() is the constructor that initializes the object.\n",
    "        self.current = start  # self.current = start → Stores the starting value.\n",
    "        self.end = end        # self.end = end → Stores the ending value.\n",
    "\n",
    "    def __iter__(self):      # The __iter__() method makes this class an iterator.\n",
    "        return self          # It returns self, meaning the object itself is an iterator.\n",
    "\n",
    "    def __next__(self):\n",
    "        if self.current > self.end:   \n",
    "            raise StopIteration  # Stops iteration when the limit is reached\n",
    "        self.current += 1        # Move to the next number\n",
    "        return self.current - 1  # Return the previous number\n",
    "    \n",
    "    # Creating an Object and Iterating Over It\n",
    "\n",
    "counter = Counter(1, 10)\n",
    "for num in counter:\n",
    "    print(num)"
   ]
  },
  {
   "cell_type": "code",
   "execution_count": null,
   "metadata": {
    "vscode": {
     "languageId": "latex"
    }
   },
   "outputs": [],
   "source": [
    "Iteration\tself.current (Before)\tCheck (self.current > end)\tself.current (After)\tReturned\n",
    "1st\t                1\t                ❌ No\t                    2\t                    1\n",
    "2nd\t                2\t                ❌ No\t                    3\t                    2\n",
    "3rd\t                3\t                ❌ No\t                    4\t                    3\n",
    "4th\t                4\t                ❌ No\t                    5\t                    4\n",
    "5th\t                5\t                ❌ No\t                    6\t                    5\n",
    "6th\t                6\t                ✅ Yes (StopIteration)\t    -\t                    -"
   ]
  },
  {
   "cell_type": "markdown",
   "metadata": {},
   "source": [
    "Summary Table"
   ]
  },
  {
   "cell_type": "code",
   "execution_count": null,
   "metadata": {
    "vscode": {
     "languageId": "latex"
    }
   },
   "outputs": [],
   "source": [
    "Concept\t                Description\n",
    "while loop\t            Repeats while a condition is True\n",
    "for loop\t            Iterates over sequences like lists, tuples\n",
    "enumerate()\t            Gives index + value in a loop\n",
    "Nested loops\t        Loop inside another loop\n",
    "List comprehension\t    One-liner loops for creating lists\n",
    "Iterable\t            An object that can be looped over\n",
    "Iterator\t            An object that produces values one at a time"
   ]
  },
  {
   "cell_type": "markdown",
   "metadata": {},
   "source": [
    "Dictionary Comprehension in Python"
   ]
  },
  {
   "cell_type": "markdown",
   "metadata": {},
   "source": [
    "Dictionary comprehension is a concise way to create dictionaries using a single line of code instead of writing long loops."
   ]
  },
  {
   "cell_type": "markdown",
   "metadata": {},
   "source": [
    "Basic Syntax"
   ]
  },
  {
   "cell_type": "code",
   "execution_count": null,
   "metadata": {
    "vscode": {
     "languageId": "latex"
    }
   },
   "outputs": [],
   "source": [
    "new_dict = {key: value for item in iterable if condition}\n",
    "Explanation\n",
    "key: The key for the dictionary.\n",
    "value: The value associated with the key.\n",
    "item: The element from the iterable being processed.\n",
    "iterable: The sequence (e.g., list, range, dictionary) being iterated.\n",
    "condition (optional): A filter to include only specific items."
   ]
  },
  {
   "cell_type": "markdown",
   "metadata": {},
   "source": [
    "1. Simple Dictionary Comprehension:\n",
    "Example: Create a Dictionary of Squares"
   ]
  },
  {
   "cell_type": "code",
   "execution_count": null,
   "metadata": {},
   "outputs": [
    {
     "name": "stdout",
     "output_type": "stream",
     "text": [
      "{1: 1, 2: 4, 3: 9, 4: 16, 5: 25}\n"
     ]
    }
   ],
   "source": [
    "squares = {x: x**2 for x in range(1, 6)}\n",
    "print(squares)"
   ]
  },
  {
   "cell_type": "markdown",
   "metadata": {},
   "source": [
    "2. Dictionary Comprehension with Condition:\n",
    "Example: Keep Even Numbers Only"
   ]
  },
  {
   "cell_type": "code",
   "execution_count": 94,
   "metadata": {},
   "outputs": [
    {
     "name": "stdout",
     "output_type": "stream",
     "text": [
      "{0: 0, 2: 4, 4: 16, 6: 36, 8: 64}\n"
     ]
    }
   ],
   "source": [
    "even_squares = {x: x**2 for x in range(10) if x % 2 == 0}\n",
    "print(even_squares)\n"
   ]
  },
  {
   "cell_type": "markdown",
   "metadata": {},
   "source": [
    " 3. Dictionary Comprehension with if-else:\n",
    "Example: Label Numbers as \"Even\" or \"Odd\""
   ]
  },
  {
   "cell_type": "code",
   "execution_count": 96,
   "metadata": {},
   "outputs": [
    {
     "name": "stdout",
     "output_type": "stream",
     "text": [
      "{0: 'Even', 1: 'Odd', 2: 'Even', 3: 'Odd', 4: 'Even'}\n"
     ]
    }
   ],
   "source": [
    "labels = {x: \"Even\" if x % 2 == 0 else \"Odd\" for x in range(5)}\n",
    "print(labels)"
   ]
  },
  {
   "cell_type": "markdown",
   "metadata": {},
   "source": [
    "4. Dictionary from a List:\n",
    "Example: Map Words to Their Lengths"
   ]
  },
  {
   "cell_type": "code",
   "execution_count": 97,
   "metadata": {},
   "outputs": [
    {
     "name": "stdout",
     "output_type": "stream",
     "text": [
      "{'apple': 5, 'banana': 6, 'cherry': 6}\n"
     ]
    }
   ],
   "source": [
    "words = [\"apple\", \"banana\", \"cherry\"]\n",
    "word_lengths = {word: len(word) for word in words}\n",
    "print(word_lengths)"
   ]
  },
  {
   "cell_type": "markdown",
   "metadata": {},
   "source": [
    "5. Swapping Keys and Values in a Dictionary"
   ]
  },
  {
   "cell_type": "code",
   "execution_count": 98,
   "metadata": {},
   "outputs": [
    {
     "name": "stdout",
     "output_type": "stream",
     "text": [
      "{1: 'a', 2: 'b', 3: 'c'}\n"
     ]
    }
   ],
   "source": [
    "original = {'a': 1, 'b': 2, 'c': 3}\n",
    "swapped = {v: k for k, v in original.items()}\n",
    "print(swapped)"
   ]
  },
  {
   "cell_type": "markdown",
   "metadata": {},
   "source": [
    "Other Examples"
   ]
  },
  {
   "cell_type": "code",
   "execution_count": 8,
   "metadata": {},
   "outputs": [
    {
     "name": "stdout",
     "output_type": "stream",
     "text": [
      "The sum of 5.1 and 6.3 is 11.400\n",
      "The sum of 5.1 and 6.3 is 11.399999999999999\n"
     ]
    }
   ],
   "source": [
    "# This program add two numbers\n",
    "num1=5.1\n",
    "num2=6.3\n",
    "# Add two numbers\n",
    "num3=num1+num2\n",
    "# Display the sum\n",
    "print(\"The sum of {0} and {1} is {2:.3f}\".format(num1,num2,num3)) # using .format()\n",
    "print(f\"The sum of {num1} and {num2} is {num3}\") # using f-string"
   ]
  },
  {
   "cell_type": "code",
   "execution_count": 2,
   "metadata": {},
   "outputs": [
    {
     "name": "stdout",
     "output_type": "stream",
     "text": [
      "The sum of 4.0 and 5.0 is 9.0\n"
     ]
    }
   ],
   "source": [
    "# Store input numbers\n",
    "# Taking user input\n",
    "num1 = input(\"Enter first number: \")\n",
    "num2 = input(\"Enter second number: \")\n",
    "\n",
    "# Convert input to float (since input() returns a string)\n",
    "num1 = float(num1)\n",
    "num2 = float(num2)\n",
    "\n",
    "# Add the numbers\n",
    "num3 = num1 + num2\n",
    "\n",
    "# Display the sum\n",
    "print(f\"The sum of {num1} and {num2} is {num3}\")\n",
    "\n",
    "\n",
    "# Add two numbers"
   ]
  },
  {
   "cell_type": "code",
   "execution_count": 5,
   "metadata": {},
   "outputs": [
    {
     "name": "stdout",
     "output_type": "stream",
     "text": [
      "The square root of 8.000 is 2.828\n"
     ]
    }
   ],
   "source": [
    "# Python Program to calculate square root\n",
    "# Note: Change this value for different results\n",
    "num=8\n",
    "# To take the input from user\n",
    "# num = float(input(\"Enter Number\"))\n",
    "num_sqrt=num**0.5\n",
    "print(\"The square root of %0.3f is %0.3f\"% (num,num_sqrt))"
   ]
  },
  {
   "cell_type": "code",
   "execution_count": 10,
   "metadata": {},
   "outputs": [
    {
     "name": "stdout",
     "output_type": "stream",
     "text": [
      "The square root of (1+2j) is 1.272+1.272j\n"
     ]
    }
   ],
   "source": [
    "# Find the squre roots of real and imaginary\n",
    "# Importing the complex math module\n",
    "import cmath\n",
    "num=1+2j\n",
    "# To take input from the user\n",
    "# num=eval(input('Enter a number:'))\n",
    "num_sqrt=cmath.sqrt(num)\n",
    "print('The square root of {0} is {1:0.3f}+{1:0.3f}j'.format(num,num_sqrt.real,num_sqrt.imag))\n",
    "\n"
   ]
  },
  {
   "cell_type": "code",
   "execution_count": 14,
   "metadata": {},
   "outputs": [
    {
     "name": "stdout",
     "output_type": "stream",
     "text": [
      "37.5 degree celsius is equal to 99.5 degree Fahreinheit \n",
      "37.5 degree Celsius is equal to 99.5 degree Fahrenheit\n"
     ]
    }
   ],
   "source": [
    "# Python program to convert temperature in celcius to fahreinheit\n",
    "# Change this value for different values\n",
    "celsius=37.5\n",
    "# calcuate Fahreinheit\n",
    "fahreinheit=(celsius*1.8)+32\n",
    "print('%0.1f degree celsius is equal to %0.1f degree Fahreinheit '%(celsius,fahreinheit))\n",
    "print(f\"{celsius:.1f} degree Celsius is equal to {fahreinheit:.1f} degree Fahrenheit\")"
   ]
  },
  {
   "cell_type": "code",
   "execution_count": 16,
   "metadata": {},
   "outputs": [
    {
     "name": "stdout",
     "output_type": "stream",
     "text": [
      "The area of the triangle is 14.70\n"
     ]
    }
   ],
   "source": [
    "# Python Program to find the area of triangle\n",
    "a=5\n",
    "b=6\n",
    "c=7\n",
    "# Calculate the semi-perimeter\n",
    "s=(a+b+c)/2\n",
    "# calculate the area\n",
    "area=(s*(s-a)*(s-b)*(s-c))**0.5\n",
    "print('The area of the triangle is %0.2f'%area)"
   ]
  },
  {
   "cell_type": "code",
   "execution_count": 17,
   "metadata": {},
   "outputs": [
    {
     "name": "stdout",
     "output_type": "stream",
     "text": [
      "The solution are (-3+0j) and (-2+0j)\n"
     ]
    }
   ],
   "source": [
    "# Solve the quadratic equation ax**2+bx+c=0\n",
    "# Import complex math module\n",
    "import cmath\n",
    "a,b,c=1,5,6\n",
    "# Calculate the discriminant\n",
    "d=(b**2)-(4*a*c)\n",
    "# find two solutions\n",
    "sol1=(-b-cmath.sqrt(d))/2\n",
    "sol2=(-b+cmath.sqrt(d))/2\n",
    "print(f\"The solution are {sol1} and {sol2}\")"
   ]
  },
  {
   "cell_type": "code",
   "execution_count": 18,
   "metadata": {},
   "outputs": [],
   "source": [
    "# Taking kilometers input from the user\n",
    "kilometers=float(input(\"Enter value in kilometers\"))\n",
    "# conversion factor\n",
    "conv_fac=0.621237\n",
    "#calculate miles\n",
    "miles=kilometers*conv_fac"
   ]
  },
  {
   "cell_type": "code",
   "execution_count": null,
   "metadata": {},
   "outputs": [],
   "source": []
  }
 ],
 "metadata": {
  "kernelspec": {
   "display_name": "Python 3",
   "language": "python",
   "name": "python3"
  },
  "language_info": {
   "codemirror_mode": {
    "name": "ipython",
    "version": 3
   },
   "file_extension": ".py",
   "mimetype": "text/x-python",
   "name": "python",
   "nbconvert_exporter": "python",
   "pygments_lexer": "ipython3",
   "version": "3.11.1"
  }
 },
 "nbformat": 4,
 "nbformat_minor": 2
}
