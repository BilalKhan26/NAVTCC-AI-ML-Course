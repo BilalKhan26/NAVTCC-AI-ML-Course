{
 "cells": [
  {
   "cell_type": "markdown",
   "metadata": {},
   "source": [
    "WEEK-2"
   ]
  },
  {
   "cell_type": "markdown",
   "metadata": {},
   "source": [
    "DAY-1: HOUR#1,2,3"
   ]
  },
  {
   "cell_type": "markdown",
   "metadata": {},
   "source": [
    "Functions in Python: Key Concepts & Use Cases\n",
    "\n",
    "Python functions help organize code, reduce redundancy, and enhance reusability. Below, we will discuss function scope, lambda functions, map and filter, and nested functions with practical examples."
   ]
  },
  {
   "cell_type": "markdown",
   "metadata": {},
   "source": [
    "1. Functions and Variable Scope\n",
    "\n",
    "Scope defines where a variable can be accessed. Python has:\n",
    "\n",
    "Local Scope (inside a function)\n",
    "\n",
    "Global Scope (outside a function)\n",
    "\n",
    "Nonlocal Scope (inside a nested function)\n",
    "\n",
    "Built-in Scope (predefined functions like len(), print())"
   ]
  },
  {
   "cell_type": "markdown",
   "metadata": {},
   "source": [
    "Example: Local and Global Scope"
   ]
  },
  {
   "cell_type": "code",
   "execution_count": null,
   "metadata": {},
   "outputs": [
    {
     "name": "stdout",
     "output_type": "stream",
     "text": [
      "Inside function: 5\n",
      "Outside function: 10\n"
     ]
    }
   ],
   "source": [
    "x = 10  # Global variable\n",
    "def my_function():\n",
    "    x = 5  # Local variable\n",
    "    print(\"Inside function:\", x)\n",
    "\n",
    "my_function()\n",
    "print(\"Outside function:\", x)"
   ]
  },
  {
   "cell_type": "markdown",
   "metadata": {},
   "source": [
    " Local variables are isolated within the function and do not affect global variables."
   ]
  },
  {
   "cell_type": "markdown",
   "metadata": {},
   "source": [
    "Example: Using global Keyword"
   ]
  },
  {
   "cell_type": "code",
   "execution_count": 2,
   "metadata": {},
   "outputs": [
    {
     "name": "stdout",
     "output_type": "stream",
     "text": [
      "Inside function: 20\n",
      "Outside function: 20\n"
     ]
    }
   ],
   "source": [
    "x = 10  \n",
    "\n",
    "def modify_global():\n",
    "    global x\n",
    "    x = 20  # Modify global variable\n",
    "    print(\"Inside function:\", x)\n",
    "\n",
    "modify_global()\n",
    "print(\"Outside function:\", x)\n"
   ]
  },
  {
   "cell_type": "markdown",
   "metadata": {},
   "source": [
    "The global keyword allows modifying global variables inside a function."
   ]
  },
  {
   "cell_type": "markdown",
   "metadata": {},
   "source": [
    " 2. Lambda Expressions:\n",
    "Lambda functions are anonymous, single-line functions that are useful for short, simple operations."
   ]
  },
  {
   "cell_type": "markdown",
   "metadata": {},
   "source": [
    "Example: Basic Lambda Function"
   ]
  },
  {
   "cell_type": "code",
   "execution_count": 3,
   "metadata": {},
   "outputs": [
    {
     "name": "stdout",
     "output_type": "stream",
     "text": [
      "8\n"
     ]
    }
   ],
   "source": [
    "add = lambda x, y: x + y\n",
    "print(add(3, 5))  # Output: 8"
   ]
  },
  {
   "cell_type": "markdown",
   "metadata": {},
   "source": [
    "Simple Function"
   ]
  },
  {
   "cell_type": "code",
   "execution_count": 57,
   "metadata": {},
   "outputs": [],
   "source": [
    "def sum(a,b):\n",
    "    return a+b"
   ]
  },
  {
   "cell_type": "code",
   "execution_count": 59,
   "metadata": {},
   "outputs": [
    {
     "name": "stdout",
     "output_type": "stream",
     "text": [
      "8\n"
     ]
    }
   ],
   "source": [
    "print(sum(3,5)) # function call"
   ]
  },
  {
   "cell_type": "markdown",
   "metadata": {},
   "source": [
    "Example: Lambda with map()"
   ]
  },
  {
   "cell_type": "code",
   "execution_count": 4,
   "metadata": {},
   "outputs": [
    {
     "name": "stdout",
     "output_type": "stream",
     "text": [
      "[1, 4, 9, 16]\n"
     ]
    }
   ],
   "source": [
    "numbers = [1, 2, 3, 4]\n",
    "squared = list(map(lambda x: x**2, numbers))\n",
    "print(squared)  # Output: [1, 4, 9, 16]"
   ]
  },
  {
   "cell_type": "markdown",
   "metadata": {},
   "source": [
    "Example: Lambda with sorted()"
   ]
  },
  {
   "cell_type": "code",
   "execution_count": 66,
   "metadata": {},
   "outputs": [
    {
     "name": "stdout",
     "output_type": "stream",
     "text": [
      "[('Bob', 85), ('Alice', 90), ('Charlie', 95)]\n"
     ]
    }
   ],
   "source": [
    "students = [(\"Alice\", 90), (\"Bob\", 85), (\"Charlie\", 95)]\n",
    "sorted_students = sorted(students, key=lambda x: x[1])  # Sort by scores\n",
    "print(sorted_students)"
   ]
  },
  {
   "cell_type": "markdown",
   "metadata": {},
   "source": [
    "Lambda expressions make code shorter and more readable in cases like sorting and transformation."
   ]
  },
  {
   "cell_type": "markdown",
   "metadata": {},
   "source": [
    "3. map() and filter() Functions:\n",
    "map() and filter() are higher-order functions used for applying functions to iterables."
   ]
  },
  {
   "cell_type": "markdown",
   "metadata": {},
   "source": [
    "Example: map() (Apply Function to All Elements)"
   ]
  },
  {
   "cell_type": "code",
   "execution_count": 8,
   "metadata": {},
   "outputs": [
    {
     "name": "stdout",
     "output_type": "stream",
     "text": [
      "[2, 4, 6, 8]\n"
     ]
    }
   ],
   "source": [
    "numbers = [1, 2, 3, 4]\n",
    "doubled = list(map(lambda x: x * 2, numbers))\n",
    "print(doubled)  # Output: [2, 4, 6, 8]"
   ]
  },
  {
   "cell_type": "markdown",
   "metadata": {},
   "source": [
    "Applies a function to every element in the list."
   ]
  },
  {
   "cell_type": "markdown",
   "metadata": {},
   "source": [
    "Example: filter() (Filter Based on Condition)"
   ]
  },
  {
   "cell_type": "code",
   "execution_count": 9,
   "metadata": {},
   "outputs": [
    {
     "name": "stdout",
     "output_type": "stream",
     "text": [
      "[2, 4, 6]\n"
     ]
    }
   ],
   "source": [
    "numbers = [1, 2, 3, 4, 5, 6]\n",
    "evens = list(filter(lambda x: x % 2 == 0, numbers))\n",
    "print(evens)  # Output: [2, 4, 6]"
   ]
  },
  {
   "cell_type": "markdown",
   "metadata": {},
   "source": [
    "4. Nested (Inner) Functions & nonlocal Scope\n",
    "\n",
    "A nested function is a function inside another function.\n",
    "\n",
    "Used for encapsulation and helper functions.\n",
    "\n",
    "Can modify variables from the outer function using nonlocal."
   ]
  },
  {
   "cell_type": "markdown",
   "metadata": {},
   "source": [
    "Example: Nested Function"
   ]
  },
  {
   "cell_type": "code",
   "execution_count": 10,
   "metadata": {},
   "outputs": [
    {
     "name": "stdout",
     "output_type": "stream",
     "text": [
      "Hello\n"
     ]
    }
   ],
   "source": [
    "def outer():\n",
    "    message = \"Hello\"\n",
    "\n",
    "    def inner():\n",
    "        print(message)  # Access outer function variable\n",
    "\n",
    "    inner()\n",
    "\n",
    "outer()"
   ]
  },
  {
   "cell_type": "markdown",
   "metadata": {},
   "source": [
    "Inner functions can access variables from the outer function."
   ]
  },
  {
   "cell_type": "markdown",
   "metadata": {},
   "source": [
    "Example: Using nonlocal to Modify Outer Function Variables"
   ]
  },
  {
   "cell_type": "code",
   "execution_count": 79,
   "metadata": {},
   "outputs": [
    {
     "name": "stdout",
     "output_type": "stream",
     "text": [
      "1\n",
      "2\n",
      "3\n"
     ]
    }
   ],
   "source": [
    "def counter():\n",
    "    count = 0\n",
    "\n",
    "    def increment():\n",
    "        nonlocal count  # Modify variable from outer function\n",
    "        count += 1\n",
    "        return count\n",
    "\n",
    "    return increment\n",
    "\n",
    "counter_func = counter()\n",
    "print(counter_func())  # Output: 1\n",
    "print(counter_func())  # Output: 2\n",
    "print(counter_func())  # Output: 3\n"
   ]
  },
  {
   "cell_type": "markdown",
   "metadata": {},
   "source": [
    "nonlocal allows modifying a variable from the outer function inside a nested function."
   ]
  },
  {
   "cell_type": "code",
   "execution_count": null,
   "metadata": {
    "vscode": {
     "languageId": "latex"
    }
   },
   "outputs": [],
   "source": [
    "Concept\t                Explanation\t                                            Example\n",
    "Function Scope\t        Determines where a variable can be accessed\t            global and nonlocal keywords\n",
    "Lambda Expression\t    Anonymous one-liner function\t                        lambda x: x * 2\n",
    "map()\t                Applies a function to all elements in an iterable\t    map(lambda x: x**2, numbers)\n",
    "filter()\t            Filters elements based on a condition\t                filter(lambda x: x % 2 == 0, numbers)\n",
    "Nested Function\t        Function inside another function\t                    def outer(): def inner():\n",
    "nonlocal\t            Modify an outer function's variable\t                    nonlocal count inside nested function"
   ]
  },
  {
   "cell_type": "markdown",
   "metadata": {},
   "source": [
    "Advanced Python Functions: Closures and Decorators\n",
    "\n",
    "Now, let's explore closures and decorators, which are powerful function-based concepts in Python."
   ]
  },
  {
   "cell_type": "markdown",
   "metadata": {},
   "source": [
    "1. Closures:\n",
    "A closure is a function that remembers the variables from its enclosing (outer) function even after the outer function has finished executing."
   ]
  },
  {
   "cell_type": "markdown",
   "metadata": {},
   "source": [
    "Example: Closure (Function Returning a Function)"
   ]
  },
  {
   "cell_type": "code",
   "execution_count": 13,
   "metadata": {},
   "outputs": [
    {
     "name": "stdout",
     "output_type": "stream",
     "text": [
      "Hello, Closure!\n"
     ]
    }
   ],
   "source": [
    "def outer_function(text):\n",
    "    def inner_function():\n",
    "        print(text)  # Accesses 'text' from the outer function\n",
    "    return inner_function  # Returns the inner function\n",
    "\n",
    "# Create a closure instance\n",
    "closure_example = outer_function(\"Hello, Closure!\")\n",
    "closure_example()  # Output: Hello, Closure!\n",
    "#  Even though outer_function has finished executing, inner_function still remembers text.\n"
   ]
  },
  {
   "cell_type": "markdown",
   "metadata": {},
   "source": [
    "Example: Closure for Counter"
   ]
  },
  {
   "cell_type": "code",
   "execution_count": 14,
   "metadata": {},
   "outputs": [
    {
     "name": "stdout",
     "output_type": "stream",
     "text": [
      "1\n",
      "2\n",
      "3\n"
     ]
    }
   ],
   "source": [
    "def counter():\n",
    "    count = 0  # Private variable\n",
    "\n",
    "    def increment():\n",
    "        nonlocal count  # Modify count from the enclosing function\n",
    "        count += 1\n",
    "        return count\n",
    "\n",
    "    return increment\n",
    "\n",
    "counter_func = counter()\n",
    "print(counter_func())  # Output: 1\n",
    "print(counter_func())  # Output: 2\n",
    "print(counter_func())  # Output: 3\n",
    "# Each time counter_func() is called, count is updated because increment() remembers count."
   ]
  },
  {
   "cell_type": "markdown",
   "metadata": {},
   "source": [
    "2. Decorators:\n",
    "A decorator is a higher-order function that modifies another function without changing its actual code.\n",
    "\n",
    "Used for logging, authentication, measuring execution time, etc.\n",
    "\n",
    "Uses @decorator_name syntax."
   ]
  },
  {
   "cell_type": "markdown",
   "metadata": {},
   "source": [
    "Example: Simple Decorator"
   ]
  },
  {
   "cell_type": "code",
   "execution_count": null,
   "metadata": {},
   "outputs": [
    {
     "name": "stdout",
     "output_type": "stream",
     "text": [
      "Wrapper executed before display\n",
      "Display function executed!\n"
     ]
    }
   ],
   "source": [
    "def decorator_function(original_function):\n",
    "    def wrapper_function():\n",
    "        print(\"Wrapper executed before\", original_function.__name__)\n",
    "        original_function()\n",
    "    return wrapper_function\n",
    "\n",
    "@decorator_function  # Apply decorator\n",
    "# The @decorator_function syntax is shorthand for: \n",
    "# display = decorator_function(display)\n",
    "def display():\n",
    "    print(\"Display function executed!\")\n",
    "\n",
    "display()\n",
    "#The wrapper_function runs before display(), modifying its behavior."
   ]
  },
  {
   "cell_type": "markdown",
   "metadata": {},
   "source": [
    "Real-World Example: Coffee Shop ☕\n",
    "\n",
    "Imagine you run a coffee shop, and customers order a basic coffee. You also provide add-ons (like sugar, milk, or caramel). Instead of changing the base coffee recipe, you wrap it with an add-on."
   ]
  },
  {
   "cell_type": "code",
   "execution_count": 87,
   "metadata": {},
   "outputs": [
    {
     "name": "stdout",
     "output_type": "stream",
     "text": [
      "Plain Coffee\n"
     ]
    }
   ],
   "source": [
    "# Without Decorators (Basic Coffee)\n",
    "def make_coffee():\n",
    "    return \"Plain Coffee\"\n",
    "\n",
    "print(make_coffee())  # Output: Plain Coffee\n"
   ]
  },
  {
   "cell_type": "markdown",
   "metadata": {},
   "source": [
    "Using Decorators: Adding Sugar 🥄\n",
    "\n",
    "Instead of modifying the make_coffee() function directly, we wrap it inside another function (add_sugar), which enhances the behavior."
   ]
  },
  {
   "cell_type": "code",
   "execution_count": 88,
   "metadata": {},
   "outputs": [
    {
     "name": "stdout",
     "output_type": "stream",
     "text": [
      "Plain Coffee + Sugar\n"
     ]
    }
   ],
   "source": [
    "def add_sugar(coffee_function):\n",
    "    def wrapper():\n",
    "        return coffee_function() + \" + Sugar\"\n",
    "    return wrapper\n",
    "\n",
    "@add_sugar  # Decorator applied!\n",
    "def make_coffee():\n",
    "    return \"Plain Coffee\"\n",
    "\n",
    "print(make_coffee())  # Output: Plain Coffee + Sugar"
   ]
  },
  {
   "cell_type": "code",
   "execution_count": 89,
   "metadata": {},
   "outputs": [
    {
     "name": "stdout",
     "output_type": "stream",
     "text": [
      "Plain Coffee + Sugar + Milk\n"
     ]
    }
   ],
   "source": [
    "def add_sugar(coffee_function):\n",
    "    def wrapper():\n",
    "        return coffee_function() + \" + Sugar\"\n",
    "    return wrapper\n",
    "\n",
    "def add_milk(coffee_function):\n",
    "    def wrapper():\n",
    "        return coffee_function() + \" + Milk\"\n",
    "    return wrapper\n",
    "\n",
    "@add_milk  # Adds milk first\n",
    "@add_sugar  # Then adds sugar\n",
    "def make_coffee():\n",
    "    return \"Plain Coffee\"\n",
    "\n",
    "print(make_coffee())  # Output: Plain Coffee + Sugar + Milk"
   ]
  },
  {
   "cell_type": "markdown",
   "metadata": {},
   "source": [
    "Example: Decorator with Arguments"
   ]
  },
  {
   "cell_type": "code",
   "execution_count": 1,
   "metadata": {},
   "outputs": [
    {
     "name": "stdout",
     "output_type": "stream",
     "text": [
      "Hello!\n",
      "Hello!\n",
      "Hello!\n"
     ]
    }
   ],
   "source": [
    "def repeat(n):\n",
    "    def decorator(func):\n",
    "        def wrapper():\n",
    "            for _ in range(n):\n",
    "                # func(*args, **kwargs)\n",
    "                func()\n",
    "        return wrapper\n",
    "    return decorator\n",
    "\n",
    "@repeat(3)  # Repeats function execution 3 times\n",
    "def say_hello():\n",
    "    print(\"Hello!\")\n",
    "\n",
    "say_hello()\n",
    "#repeat(3) dynamically controls how many times the function executes."
   ]
  },
  {
   "cell_type": "markdown",
   "metadata": {},
   "source": [
    "Example: Timing a Function Execution"
   ]
  },
  {
   "cell_type": "code",
   "execution_count": null,
   "metadata": {},
   "outputs": [
    {
     "name": "stdout",
     "output_type": "stream",
     "text": [
      "Finished execution!\n",
      "slow_function took 2.0003 seconds\n"
     ]
    }
   ],
   "source": [
    "import time\n",
    "\n",
    "def timer(func):\n",
    "    def wrapper(*args, **kwargs):\n",
    "        start = time.time()\n",
    "        result = func(*args, **kwargs)\n",
    "        end = time.time()\n",
    "        print(f\"{func.__name__} took {end - start:.4f} seconds\")\n",
    "        return result\n",
    "    return wrapper\n",
    "\n",
    "@timer\n",
    "def slow_function():\n",
    "    time.sleep(2)\n",
    "    print(\"Finished execution!\")\n",
    "\n",
    "slow_function()\n",
    "# This decorator measures and logs how long a function takes to run."
   ]
  },
  {
   "cell_type": "markdown",
   "metadata": {},
   "source": [
    "*args (Non-Keyword Arguments)\n",
    "\n",
    "*args allows a function to accept any number of positional arguments.\n",
    "\n",
    "Inside the function, args behaves like a tuple."
   ]
  },
  {
   "cell_type": "code",
   "execution_count": 18,
   "metadata": {},
   "outputs": [
    {
     "name": "stdout",
     "output_type": "stream",
     "text": [
      "5\n",
      "15\n"
     ]
    },
    {
     "data": {
      "text/plain": [
       "\"'\\nHow It Works?\\n*args collects all the positional arguments into a tuple.\\nThe function sums all values using sum(args).\\n\""
      ]
     },
     "execution_count": 18,
     "metadata": {},
     "output_type": "execute_result"
    }
   ],
   "source": [
    "# Example: Using *args\n",
    "def add_numbers(*args):\n",
    "    return sum(args)\n",
    "\n",
    "print(add_numbers(2, 3))          # Output: 5\n",
    "print(add_numbers(1, 2, 3, 4, 5)) # Output: 15\n",
    "\n",
    "''''\n",
    "How It Works?\n",
    "*args collects all the positional arguments into a tuple.\n",
    "The function sums all values using sum(args).\n",
    "'''"
   ]
  },
  {
   "cell_type": "code",
   "execution_count": null,
   "metadata": {},
   "outputs": [
    {
     "name": "stdout",
     "output_type": "stream",
     "text": [
      "Hello, Alice!\n",
      "Good morning!\n",
      "How are you?\n",
      "Have a nice day!\n"
     ]
    }
   ],
   "source": [
    "# Example: Mixing *args with Normal Arguments\n",
    "def greet(name, *messages):\n",
    "    print(f\"Hello, {name}!\")\n",
    "    for msg in messages:\n",
    "        print(msg)\n",
    "\n",
    "greet(\"Alice\", \"Good morning!\", \"How are you?\", \"Have a nice day!\")\n",
    "\n",
    "# *messages collects extra arguments into a tuple and prints each one."
   ]
  },
  {
   "cell_type": "markdown",
   "metadata": {},
   "source": [
    "**kwargs (Keyword Arguments)\n",
    "\n",
    "**kwargs allows a function to accept any number of keyword arguments.\n",
    "\n",
    "Inside the function, kwargs behaves like a dictionary."
   ]
  },
  {
   "cell_type": "code",
   "execution_count": null,
   "metadata": {},
   "outputs": [
    {
     "name": "stdout",
     "output_type": "stream",
     "text": [
      "name: Alice\n",
      "age: 25\n",
      "city: New York\n"
     ]
    }
   ],
   "source": [
    "# Example 3: Using **kwargs\n",
    "def print_info(**kwargs):\n",
    "    for key, value in kwargs.items():\n",
    "        print(f\"{key}: {value}\")\n",
    "\n",
    "print_info(name=\"Alice\", age=25, city=\"New York\")\n",
    "\n",
    "\"\"\"\n",
    "How It Works?\n",
    "**kwargs collects all keyword arguments into a dictionary.\n",
    "The function loops through kwargs.items() to print key-value pairs.\n",
    "\"\"\""
   ]
  },
  {
   "cell_type": "code",
   "execution_count": 21,
   "metadata": {},
   "outputs": [
    {
     "name": "stdout",
     "output_type": "stream",
     "text": [
      "Title: Student Details\n",
      "\n",
      "Positional Arguments (args):\n",
      "Alice\n",
      "Math\n",
      "\n",
      "Keyword Arguments (kwargs):\n",
      "age: 20\n",
      "grade: A\n"
     ]
    }
   ],
   "source": [
    "\"\"\" Example 4: Mixing *args and **kwargs \"\"\"\n",
    "def display_info(title, *args, **kwargs):\n",
    "    print(f\"Title: {title}\")\n",
    "    \n",
    "    print(\"\\nPositional Arguments (args):\")\n",
    "    for arg in args:\n",
    "        print(arg)\n",
    "    \n",
    "    print(\"\\nKeyword Arguments (kwargs):\")\n",
    "    for key, value in kwargs.items():\n",
    "        print(f\"{key}: {value}\")\n",
    "\n",
    "display_info(\"Student Details\", \"Alice\", \"Math\", age=20, grade=\"A\")"
   ]
  },
  {
   "cell_type": "code",
   "execution_count": null,
   "metadata": {
    "vscode": {
     "languageId": "latex"
    }
   },
   "outputs": [],
   "source": [
    "When to Use *args and **kwargs?\n",
    "Feature\t        Usage\n",
    "*args\t        When the number of positional arguments is unknown\n",
    "**kwargs\t    When the number of keyword arguments is unknown\n",
    "Mix of both\t    When handling both positional and keyword arguments dynamically"
   ]
  },
  {
   "cell_type": "markdown",
   "metadata": {},
   "source": [
    "Understanding yield in Python:\n",
    "The yield keyword is used in generators to produce a lazy iterator, meaning values are generated one at a time on demand, instead of storing them all in memory at once."
   ]
  },
  {
   "cell_type": "code",
   "execution_count": null,
   "metadata": {
    "vscode": {
     "languageId": "latex"
    }
   },
   "outputs": [],
   "source": [
    "Difference Between return and yield\n",
    "Feature\t            return\t                                yield\n",
    "Function Type\t    Normal Function\t                        Generator Function\n",
    "Execution\t        Ends the function completely\t        Pauses and remembers state\n",
    "Memory Usage\t    Stores entire result in memory\t        Generates values one at a time (efficient)\n",
    "Iterable?\t        No\t                                    Yes (creates an iterator)"
   ]
  },
  {
   "cell_type": "code",
   "execution_count": 3,
   "metadata": {},
   "outputs": [
    {
     "name": "stdout",
     "output_type": "stream",
     "text": [
      "1\n",
      "2\n"
     ]
    },
    {
     "data": {
      "text/plain": [
       "'\\nHow It Works?\\nyield count returns a value but pauses execution.\\nWhen the generator is called again, it resumes from where it left off.\\n'"
      ]
     },
     "execution_count": 3,
     "metadata": {},
     "output_type": "execute_result"
    }
   ],
   "source": [
    "# Example: Using yield to Generate a Sequence\n",
    "def count_up_to(n):\n",
    "    count = 1\n",
    "    while count <= n:\n",
    "        yield count\n",
    "        count += 1\n",
    "\n",
    "# Using the generator\n",
    "counter = count_up_to(5)\n",
    "print(next(counter))\n",
    "print(next(counter))\n",
    "# for num in counter:\n",
    "#     print(num)\n",
    "\n",
    "'''\n",
    "How It Works?\n",
    "yield count returns a value but pauses execution.\n",
    "When the generator is called again, it resumes from where it left off.\n",
    "'''\n"
   ]
  },
  {
   "cell_type": "code",
   "execution_count": null,
   "metadata": {},
   "outputs": [
    {
     "name": "stdout",
     "output_type": "stream",
     "text": [
      "[0, 1, 1, 2, 3]\n"
     ]
    }
   ],
   "source": [
    "# Example: Fibonacci Series with yield\n",
    "def fibonacci(n):\n",
    "    a, b = 0, 1\n",
    "    for _ in range(n):\n",
    "        yield a\n",
    "        a, b = b, a + b\n",
    "\n",
    "# Generating the first 5 Fibonacci numbers\n",
    "fib_gen = fibonacci(5)\n",
    "print(list(fib_gen))\n",
    "\n",
    "# Why Use yield?\n",
    "# Instead of storing all Fibonacci numbers in memory, it generates one at a time."
   ]
  },
  {
   "cell_type": "code",
   "execution_count": null,
   "metadata": {},
   "outputs": [
    {
     "name": "stdout",
     "output_type": "stream",
     "text": [
      "Hello\n",
      "World\n",
      "!\n"
     ]
    }
   ],
   "source": [
    "# Example: Using yield Instead of return\n",
    "def simple_function():\n",
    "    yield \"Hello\"\n",
    "    yield \"World\"\n",
    "    yield \"!\"\n",
    "\n",
    "gen = simple_function()\n",
    "print(next(gen))  # Output: Hello\n",
    "print(next(gen))  # Output: World\n",
    "print(next(gen))  # Output: !\n",
    "\n",
    "'''\n",
    "Key Observations\n",
    "yield allows the function to resume from where it left off.\n",
    "Calling next(gen) moves to the next yield statement.\n",
    "'''"
   ]
  },
  {
   "cell_type": "code",
   "execution_count": null,
   "metadata": {
    "vscode": {
     "languageId": "latex"
    }
   },
   "outputs": [],
   "source": [
    " When to Use yield?\n",
    "Scenario\t            Why Use yield?\n",
    "Large Data Processing\tAvoids memory overload by yielding one item at a time\n",
    "Infinite Sequences\t    Keeps track of state without recursion\n",
    "Streaming Data\t        Handles real-time data efficiently\n",
    "Machine Learning\t    Efficiently processes large datasets"
   ]
  },
  {
   "cell_type": "markdown",
   "metadata": {},
   "source": [
    "Understanding Generators in Python:\n",
    "A generator is a special type of iterable that produces values on demand instead of storing them all in memory at once. It is created using functions with the yield keyword."
   ]
  },
  {
   "cell_type": "markdown",
   "metadata": {},
   "source": [
    "How Generators Work\n",
    "\n",
    "Generators produce values lazily (only when needed).\n",
    "\n",
    "They maintain their state between calls.\n",
    "\n",
    "They help in memory-efficient processing of large datasets."
   ]
  },
  {
   "cell_type": "markdown",
   "metadata": {},
   "source": [
    "Creating a Generator:\n",
    "A generator is defined like a normal function but uses yield instead of return."
   ]
  },
  {
   "cell_type": "code",
   "execution_count": null,
   "metadata": {},
   "outputs": [
    {
     "name": "stdout",
     "output_type": "stream",
     "text": [
      "1\n",
      "2\n",
      "3\n"
     ]
    }
   ],
   "source": [
    "def count_up_to(n):\n",
    "    count = 1\n",
    "    while count <= n:\n",
    "        yield count\n",
    "        count += 1\n",
    "\n",
    "# Using the generator\n",
    "counter = count_up_to(3)\n",
    "print(next(counter))  # Output: 1\n",
    "print(next(counter))  # Output: 2\n",
    "print(next(counter))  # Output: 3\n",
    "\n",
    "'''\n",
    "Explanation:\n",
    "yield pauses execution and remembers the function’s state.\n",
    "The next time next(counter) is called, it resumes from where it left off.\n",
    "'''"
   ]
  },
  {
   "cell_type": "code",
   "execution_count": null,
   "metadata": {
    "vscode": {
     "languageId": "latex"
    }
   },
   "outputs": [],
   "source": [
    "Difference Between Generators and Normal Functions\n",
    "Feature\t            Normal Function (return)\t                Generator (yield)\n",
    "Execution\t        Runs once and exits\t                        Resumes where it left off\n",
    "Memory Usage\t    Stores all values in memory\t                Generates values lazily (one at a time)\n",
    "Iterable?\t        No\t                                        Yes (can use in for loops)\n",
    "Example Output\t    Returns a single value\t                    Yields multiple values"
   ]
  },
  {
   "cell_type": "code",
   "execution_count": 27,
   "metadata": {},
   "outputs": [
    {
     "name": "stdout",
     "output_type": "stream",
     "text": [
      "[0, 1, 1, 2, 3]\n"
     ]
    }
   ],
   "source": [
    "# Example: Fibonacci Series Using Generators\n",
    "def fibonacci(n):\n",
    "    a, b = 0, 1\n",
    "    for _ in range(n):\n",
    "        yield a\n",
    "        a, b = b, a + b\n",
    "\n",
    "# Using the generator\n",
    "fib_gen = fibonacci(5)\n",
    "print(list(fib_gen))  # Output: [0, 1, 1, 2, 3]"
   ]
  },
  {
   "cell_type": "code",
   "execution_count": 28,
   "metadata": {},
   "outputs": [
    {
     "name": "stdout",
     "output_type": "stream",
     "text": [
      "2\n",
      "4\n",
      "6\n"
     ]
    }
   ],
   "source": [
    "# Iterating Over a Generator\n",
    "# A generator can be looped over directly.\n",
    "def even_numbers(n):\n",
    "    for i in range(2, n + 1, 2):\n",
    "        yield i\n",
    "\n",
    "for num in even_numbers(6):\n",
    "    print(num)\n",
    "# No need to call next() manually, since the for loop automatically calls it."
   ]
  },
  {
   "cell_type": "code",
   "execution_count": 29,
   "metadata": {},
   "outputs": [
    {
     "name": "stdout",
     "output_type": "stream",
     "text": [
      "[0, 1, 4, 9, 16]\n"
     ]
    }
   ],
   "source": [
    "# Generator Expressions (Like List Comprehensions)\n",
    "# You can create generators in one line using generator expressions.\n",
    "# List Comprehension (Stores All Values in Memory)\n",
    "squares = [x**2 for x in range(5)]\n",
    "print(squares)  # Output: [0, 1, 4, 9, 16]"
   ]
  },
  {
   "cell_type": "code",
   "execution_count": 30,
   "metadata": {},
   "outputs": [
    {
     "name": "stdout",
     "output_type": "stream",
     "text": [
      "0\n",
      "1\n",
      "[4, 9, 16]\n"
     ]
    },
    {
     "data": {
      "text/plain": [
       "'\\nWhy Use a Generator Expression?\\nSaves memory (especially for large datasets).\\nEfficient computation.\\n'"
      ]
     },
     "execution_count": 30,
     "metadata": {},
     "output_type": "execute_result"
    }
   ],
   "source": [
    "# Generator Expression (Yields One Value at a Time)\n",
    "squares_gen = (x**2 for x in range(5))\n",
    "print(next(squares_gen))  # Output: 0\n",
    "print(next(squares_gen))  # Output: 1\n",
    "print(list(squares_gen))  # Output: [4, 9, 16] (Remaining values)\n",
    "\n",
    "'''\n",
    "Why Use a Generator Expression?\n",
    "Saves memory (especially for large datasets).\n",
    "Efficient computation.\n",
    "'''"
   ]
  },
  {
   "cell_type": "code",
   "execution_count": null,
   "metadata": {
    "vscode": {
     "languageId": "latex"
    }
   },
   "outputs": [],
   "source": [
    "When to Use Generators?\n",
    "Scenario\t                Why Generators?\n",
    "Processing large files\t    Reads one line at a time instead of loading everything into memory\n",
    "Infinite sequences\t        Generates numbers dynamically without storing them\n",
    "Real-time data streaming\tHandles incoming data efficiently\n",
    "Machine learning\t        Efficiently processes large datasets\n"
   ]
  },
  {
   "cell_type": "markdown",
   "metadata": {},
   "source": [
    "DAY-1: HOUR#4"
   ]
  },
  {
   "cell_type": "markdown",
   "metadata": {},
   "source": [
    "Opening a File\n",
    "Use the open() function:"
   ]
  },
  {
   "cell_type": "code",
   "execution_count": 31,
   "metadata": {},
   "outputs": [],
   "source": [
    "file = open(\"example.txt\", \"r\")  # Open file in read mode"
   ]
  },
  {
   "cell_type": "code",
   "execution_count": null,
   "metadata": {
    "vscode": {
     "languageId": "latex"
    }
   },
   "outputs": [],
   "source": [
    "Mode\tDescription\n",
    "\"r\"\t    Read-only (default)\n",
    "\"w\"\t    Write (creates new file or overwrites)\n",
    "\"a\"\t    Append (adds to existing file)\n",
    "\"x\"\t    Create (fails if file exists)\n",
    "\"r+\"\tRead & Write"
   ]
  },
  {
   "cell_type": "code",
   "execution_count": null,
   "metadata": {},
   "outputs": [
    {
     "name": "stdout",
     "output_type": "stream",
     "text": [
      "This is apps genii software house.\n"
     ]
    }
   ],
   "source": [
    "# Reading from a File\n",
    "with open(\"example.txt\", \"r\") as file:\n",
    "    content = file.read()\n",
    "    print(content)  # Prints entire file content\n",
    "\n",
    "# file.readline()  # Reads one line at a time\n",
    "# file.readlines()  # Returns a list of lines"
   ]
  },
  {
   "cell_type": "code",
   "execution_count": 33,
   "metadata": {},
   "outputs": [],
   "source": [
    "# Writing to a File\n",
    "with open(\"examples.txt\", \"w\") as file:\n",
    "    file.write(\"Hello, World!\\n\")\n",
    "    file.write(\"This is a new line.\\n\")\n"
   ]
  },
  {
   "cell_type": "code",
   "execution_count": 34,
   "metadata": {},
   "outputs": [],
   "source": [
    "# Appending to a File\n",
    "with open(\"example.txt\", \"a\") as file:\n",
    "    file.write(\"Appending new text!\\n\")"
   ]
  },
  {
   "cell_type": "code",
   "execution_count": 86,
   "metadata": {},
   "outputs": [],
   "source": [
    "from PIL import Image\n",
    "import io\n",
    "\n",
    "# Read the binary file\n",
    "with open(\"cat.jpg\", \"rb\") as file:\n",
    "    data = file.read()\n",
    "\n",
    "# Convert binary data to an image and display\n",
    "image = Image.open(io.BytesIO(data))\n",
    "image.show()\n"
   ]
  },
  {
   "cell_type": "code",
   "execution_count": 38,
   "metadata": {},
   "outputs": [],
   "source": [
    "# Closing a File\n",
    "# Always close a file to free system resources.\n",
    "file = open(\"example.txt\", \"r\")\n",
    "file.close()"
   ]
  },
  {
   "cell_type": "markdown",
   "metadata": {},
   "source": [
    "Exception Handling in Python:\n",
    "Exception handling prevents program crashes by handling runtime errors."
   ]
  },
  {
   "cell_type": "code",
   "execution_count": 39,
   "metadata": {},
   "outputs": [
    {
     "name": "stdout",
     "output_type": "stream",
     "text": [
      "Cannot divide by zero!\n"
     ]
    }
   ],
   "source": [
    "# Basic Try-Except\n",
    "try:\n",
    "    result = 10 / 0  # Division by zero\n",
    "except ZeroDivisionError:\n",
    "    print(\"Cannot divide by zero!\")"
   ]
  },
  {
   "cell_type": "code",
   "execution_count": 42,
   "metadata": {},
   "outputs": [
    {
     "name": "stdout",
     "output_type": "stream",
     "text": [
      "Cannot divide by zero!\n"
     ]
    }
   ],
   "source": [
    "# Handling Multiple Exceptions\n",
    "try:\n",
    "    num = int(input(\"Enter a number: \"))\n",
    "    result = 10 / num\n",
    "except ValueError:\n",
    "    print(\"Invalid input! Please enter a number.\")\n",
    "except ZeroDivisionError:\n",
    "    print(\"Cannot divide by zero!\")"
   ]
  },
  {
   "cell_type": "code",
   "execution_count": 44,
   "metadata": {},
   "outputs": [
    {
     "name": "stdout",
     "output_type": "stream",
     "text": [
      "File read successfully!\n",
      "closed\n"
     ]
    }
   ],
   "source": [
    "# Using else and finally\n",
    "try:\n",
    "    file = open(\"example.txt\", \"r\")\n",
    "    content = file.read()\n",
    "except FileNotFoundError:\n",
    "    print(\"File not found!\")\n",
    "else:\n",
    "    print(\"File read successfully!\")  # Runs if no exception\n",
    "finally:\n",
    "    file.close()  # Always executes\n",
    "    print(\"closed\")\n",
    "# Custom error messages."
   ]
  },
  {
   "cell_type": "code",
   "execution_count": 45,
   "metadata": {},
   "outputs": [
    {
     "name": "stdout",
     "output_type": "stream",
     "text": [
      "Logs saved!\n"
     ]
    }
   ],
   "source": [
    "# Reading & Writing a Log File\n",
    "# A log file stores events or messages from a program.\n",
    "def write_log(message):\n",
    "    with open(\"app.log\", \"a\") as file:\n",
    "        file.write(message + \"\\n\")\n",
    "\n",
    "write_log(\"Application started\")\n",
    "write_log(\"User logged in\")\n",
    "print(\"Logs saved!\")"
   ]
  },
  {
   "cell_type": "code",
   "execution_count": 46,
   "metadata": {},
   "outputs": [
    {
     "name": "stdout",
     "output_type": "stream",
     "text": [
      "Log File Content:\n",
      " Application started\n",
      "User logged in\n",
      "\n"
     ]
    }
   ],
   "source": [
    "# Reading Logs\n",
    "with open(\"app.log\", \"r\") as file:\n",
    "    print(\"Log File Content:\\n\", file.read())\n",
    "# Appends messages instead of overwriting."
   ]
  },
  {
   "cell_type": "markdown",
   "metadata": {},
   "source": [
    "2. Reading & Writing CSV Files:\n",
    "CSV (Comma-Separated Values) files store tabular data."
   ]
  },
  {
   "cell_type": "code",
   "execution_count": 47,
   "metadata": {},
   "outputs": [
    {
     "name": "stdout",
     "output_type": "stream",
     "text": [
      "CSV file created!\n"
     ]
    }
   ],
   "source": [
    "# Writing to a CSV File\n",
    "import csv\n",
    "\n",
    "data = [[\"Name\", \"Age\", \"City\"], \n",
    "        [\"Alice\", 30, \"New York\"], \n",
    "        [\"Bob\", 25, \"London\"]]\n",
    "\n",
    "with open(\"people.csv\", \"w\", newline=\"\") as file:\n",
    "    writer = csv.writer(file)\n",
    "    writer.writerows(data)\n",
    "\n",
    "print(\"CSV file created!\")\n"
   ]
  },
  {
   "cell_type": "code",
   "execution_count": 48,
   "metadata": {},
   "outputs": [
    {
     "name": "stdout",
     "output_type": "stream",
     "text": [
      "['Name', 'Age', 'City']\n",
      "['Alice', '30', 'New York']\n",
      "['Bob', '25', 'London']\n"
     ]
    }
   ],
   "source": [
    "# Reading a CSV File\n",
    "with open(\"people.csv\", \"r\") as file:\n",
    "    reader = csv.reader(file)\n",
    "    for row in reader:\n",
    "        print(row)"
   ]
  },
  {
   "cell_type": "markdown",
   "metadata": {},
   "source": [
    "4. Handling File Errors with Exception Handling"
   ]
  },
  {
   "cell_type": "code",
   "execution_count": 49,
   "metadata": {},
   "outputs": [
    {
     "name": "stdout",
     "output_type": "stream",
     "text": [
      "Error: File not found!\n"
     ]
    }
   ],
   "source": [
    "# Handling Missing Files\n",
    "try:\n",
    "    with open(\"missing.txt\", \"r\") as file:\n",
    "        print(file.read())\n",
    "except FileNotFoundError:\n",
    "    print(\"Error: File not found!\")\n",
    "# Prevents crashes when a file is missing."
   ]
  },
  {
   "cell_type": "code",
   "execution_count": null,
   "metadata": {},
   "outputs": [
    {
     "name": "stdout",
     "output_type": "stream",
     "text": [
      "Hello, World!\n",
      "This is a new line.\n",
      "\n"
     ]
    }
   ],
   "source": [
    "# Handling Permission Errors\n",
    "try:\n",
    "    with open(\"examples.txt\", \"r\") as file:\n",
    "        print(file.read())\n",
    "except PermissionError:\n",
    "    print(\"Error: You don't have permission to access this file!\")\n",
    "# Avoids permission-related crashes."
   ]
  },
  {
   "cell_type": "markdown",
   "metadata": {},
   "source": [
    "The finally Block in Python – A Detailed Explanation\n",
    "In Python, the finally block is used in exception handling to ensure that certain code runs no matter what happens—whether an exception occurs or not. It is typically used for cleanup operations, such as closing files, releasing resources, or resetting states.\n",
    "\n",
    "\n",
    "Syntax of try, except, finally"
   ]
  },
  {
   "cell_type": "code",
   "execution_count": null,
   "metadata": {},
   "outputs": [
    {
     "name": "stdout",
     "output_type": "stream",
     "text": [
      "An error occurred: name 'risky_code' is not defined\n",
      "This will always run.\n"
     ]
    }
   ],
   "source": [
    "try:\n",
    "    # Code that may raise an exception\n",
    "    risky_code()\n",
    "except Exception as e:\n",
    "    # Handling the exception\n",
    "    print(\"An error occurred:\", e)\n",
    "finally:\n",
    "    # Cleanup code that always executes\n",
    "    print(\"This will always run.\")"
   ]
  },
  {
   "cell_type": "markdown",
   "metadata": {},
   "source": [
    "When Does finally Execute?\n",
    "\n",
    "If no exception occurs: The finally block executes after the try block.\n",
    "\n",
    "If an exception occurs and is handled: The finally block executes after the except block.\n",
    "\n",
    "If an exception occurs but is not handled: The finally block executes before Python propagates the error.\n",
    "\n",
    "If return, break, or continue is used inside try or except: The finally block still executes before returning."
   ]
  },
  {
   "cell_type": "markdown",
   "metadata": {},
   "source": [
    "Examples of finally Usage\n",
    "\n",
    "Example: Using finally for Cleanup"
   ]
  },
  {
   "cell_type": "code",
   "execution_count": 81,
   "metadata": {},
   "outputs": [
    {
     "name": "stdout",
     "output_type": "stream",
     "text": [
      "File written successfully.\n",
      "File closed successfully.\n"
     ]
    }
   ],
   "source": [
    "try:\n",
    "    file = open(\"example.txt\", \"w\")\n",
    "    file.write(\"Hello, World!\")\n",
    "    print(\"File written successfully.\")\n",
    "except IOError:\n",
    "    print(\"Error in file operation.\")\n",
    "finally:\n",
    "    file.close()  # Ensures the file is closed\n",
    "    print(\"File closed successfully.\")"
   ]
  },
  {
   "cell_type": "markdown",
   "metadata": {},
   "source": [
    "Why finally?\n",
    "\n",
    "Ensures the file always gets closed, preventing memory leaks or file corruption."
   ]
  },
  {
   "cell_type": "markdown",
   "metadata": {},
   "source": [
    "Example: finally Executes Even with an Exception"
   ]
  },
  {
   "cell_type": "code",
   "execution_count": 82,
   "metadata": {},
   "outputs": [
    {
     "name": "stdout",
     "output_type": "stream",
     "text": [
      "Cannot divide by zero.\n",
      "This will always execute.\n"
     ]
    }
   ],
   "source": [
    "try:\n",
    "    print(10 / 0)  # Raises ZeroDivisionError\n",
    "except ZeroDivisionError:\n",
    "    print(\"Cannot divide by zero.\")\n",
    "finally:\n",
    "    print(\"This will always execute.\")"
   ]
  },
  {
   "cell_type": "markdown",
   "metadata": {},
   "source": [
    "Even though an exception occurs, the finally block still executes."
   ]
  },
  {
   "cell_type": "markdown",
   "metadata": {},
   "source": [
    "Example: finally with return Statement"
   ]
  },
  {
   "cell_type": "code",
   "execution_count": 83,
   "metadata": {},
   "outputs": [
    {
     "name": "stdout",
     "output_type": "stream",
     "text": [
      "Finally block executes before returning.\n",
      "Returning from try block\n"
     ]
    }
   ],
   "source": [
    "def example_function():\n",
    "    try:\n",
    "        return \"Returning from try block\"\n",
    "    finally:\n",
    "        print(\"Finally block executes before returning.\")\n",
    "\n",
    "print(example_function())"
   ]
  },
  {
   "cell_type": "markdown",
   "metadata": {},
   "source": [
    " Example: finally in Nested Try-Except"
   ]
  },
  {
   "cell_type": "code",
   "execution_count": 84,
   "metadata": {},
   "outputs": [
    {
     "name": "stdout",
     "output_type": "stream",
     "text": [
      "Inner try\n",
      "Handled: An error occurred!\n",
      "Inner finally always runs.\n",
      "Outer try continues execution.\n",
      "Outer finally always runs.\n"
     ]
    }
   ],
   "source": [
    "try:\n",
    "    try:\n",
    "        print(\"Inner try\")\n",
    "        raise ValueError(\"An error occurred!\")\n",
    "    except ValueError as e:\n",
    "        print(\"Handled:\", e)\n",
    "    finally:\n",
    "        print(\"Inner finally always runs.\")\n",
    "\n",
    "    print(\"Outer try continues execution.\")\n",
    "except Exception:\n",
    "    print(\"Outer exception handler.\")\n",
    "finally:\n",
    "    print(\"Outer finally always runs.\")"
   ]
  },
  {
   "cell_type": "markdown",
   "metadata": {},
   "source": [
    "finally runs after handling errors in both inner and outer try blocks."
   ]
  },
  {
   "cell_type": "markdown",
   "metadata": {},
   "source": [
    "When Should You Use finally?\n",
    "\n",
    "Releasing resources (files, network connections, database connections).\n",
    "\n",
    "Closing files after reading or writing.\n",
    "\n",
    "Logging important events before exiting a program.\n",
    "\n",
    "Resetting variables or cleaning up temporary data."
   ]
  },
  {
   "cell_type": "code",
   "execution_count": null,
   "metadata": {
    "vscode": {
     "languageId": "latex"
    }
   },
   "outputs": [],
   "source": [
    "Summary\n",
    "Scenario\t                                finally Executes?\n",
    "Normal execution (no error)\t                ✅ Yes\n",
    "Exception occurs and is handled\t            ✅ Yes\n",
    "Exception occurs and is not handled\t        ✅ Yes (before error propagates)\n",
    "return, break, or continue inside try\t    ✅ Yes (before returning)"
   ]
  },
  {
   "cell_type": "code",
   "execution_count": 54,
   "metadata": {},
   "outputs": [
    {
     "name": "stdout",
     "output_type": "stream",
     "text": [
      "This is apps genii software house.Appending new text!\n",
      "\n",
      "File closed safely.\n"
     ]
    }
   ],
   "source": [
    "# Using finally for Safe File Closing\n",
    "try:\n",
    "    file = open(\"example.txt\", \"r\")\n",
    "    content = file.read()\n",
    "    print(content)\n",
    "except FileNotFoundError:\n",
    "    print(\"File not found!\")\n",
    "finally:\n",
    "    file.close()\n",
    "    print(\"File closed safely.\")\n"
   ]
  },
  {
   "cell_type": "code",
   "execution_count": 55,
   "metadata": {},
   "outputs": [
    {
     "name": "stdout",
     "output_type": "stream",
     "text": [
      "JSON file saved!\n"
     ]
    }
   ],
   "source": [
    "# Writing JSON Files\n",
    "# Storing Data in JSON Format\n",
    "import json\n",
    "\n",
    "data = {\"name\": \"Alice\", \"age\": 30, \"city\": \"New York\"}\n",
    "\n",
    "with open(\"data.json\", \"w\") as file:\n",
    "    json.dump(data, file)\n",
    "\n",
    "print(\"JSON file saved!\")\n"
   ]
  },
  {
   "cell_type": "code",
   "execution_count": 56,
   "metadata": {},
   "outputs": [
    {
     "name": "stdout",
     "output_type": "stream",
     "text": [
      "{'name': 'Alice', 'age': 30, 'city': 'New York'}\n"
     ]
    }
   ],
   "source": [
    "# Reading JSON Data\n",
    "with open(\"data.json\", \"r\") as file:\n",
    "    content = json.load(file)\n",
    "    print(content)\n",
    "# Used for API responses, config files, and structured data storage."
   ]
  },
  {
   "cell_type": "markdown",
   "metadata": {},
   "source": [
    "Summary"
   ]
  },
  {
   "cell_type": "code",
   "execution_count": null,
   "metadata": {
    "vscode": {
     "languageId": "latex"
    }
   },
   "outputs": [],
   "source": [
    "Scenario\t        File Type\t        Read Mode\t        Write Mode\n",
    "Logs\t            .log\t            \"r\"\t                \"a\"\n",
    "Tabular Data\t    .csv\t            csv.reader()\t    csv.writer()\n",
    "Images/PDFs\t        .jpg/.pdf\t        \"rb\"\t            \"wb\"\n",
    "Structured Data\t    .json\t            json.load()\t        json.dump()"
   ]
  }
 ],
 "metadata": {
  "kernelspec": {
   "display_name": "Python 3",
   "language": "python",
   "name": "python3"
  },
  "language_info": {
   "codemirror_mode": {
    "name": "ipython",
    "version": 3
   },
   "file_extension": ".py",
   "mimetype": "text/x-python",
   "name": "python",
   "nbconvert_exporter": "python",
   "pygments_lexer": "ipython3",
   "version": "3.13.2"
  }
 },
 "nbformat": 4,
 "nbformat_minor": 2
}
